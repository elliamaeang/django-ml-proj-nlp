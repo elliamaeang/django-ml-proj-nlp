{
 "cells": [
  {
   "cell_type": "markdown",
   "metadata": {},
   "source": [
    "# Setting Up"
   ]
  },
  {
   "cell_type": "code",
   "execution_count": 1,
   "metadata": {},
   "outputs": [
    {
     "name": "stdout",
     "output_type": "stream",
     "text": [
      "Requirement already satisfied: django in c:\\training\\project\\senti-env\\lib\\site-packages (4.2.5)\n",
      "Requirement already satisfied: djlint in c:\\training\\project\\senti-env\\lib\\site-packages (1.34.0)\n",
      "Requirement already satisfied: numpy in c:\\training\\project\\senti-env\\lib\\site-packages (1.26.0)\n",
      "Requirement already satisfied: pandas in c:\\training\\project\\senti-env\\lib\\site-packages (2.1.1)\n",
      "Requirement already satisfied: matplotlib==3.7.3 in c:\\training\\project\\senti-env\\lib\\site-packages (3.7.3)\n",
      "Requirement already satisfied: seaborn in c:\\training\\project\\senti-env\\lib\\site-packages (0.12.2)\n",
      "Requirement already satisfied: jupyter in c:\\training\\project\\senti-env\\lib\\site-packages (1.0.0)\n",
      "Requirement already satisfied: nltk in c:\\training\\project\\senti-env\\lib\\site-packages (3.8.1)\n",
      "Collecting spacy\n",
      "  Downloading spacy-3.7.0-cp39-cp39-win_amd64.whl (12.1 MB)\n",
      "     -------------------------------------- 12.1/12.1 MB 773.3 kB/s eta 0:00:00\n",
      "Requirement already satisfied: scikit-learn in c:\\training\\project\\senti-env\\lib\\site-packages (1.3.1)\n",
      "Collecting imblearn\n",
      "  Using cached imblearn-0.0-py2.py3-none-any.whl (1.9 kB)\n",
      "Requirement already satisfied: joblib in c:\\training\\project\\senti-env\\lib\\site-packages (1.3.2)\n",
      "Requirement already satisfied: nlppreprocess in c:\\training\\project\\senti-env\\lib\\site-packages (1.0.2)\n",
      "Requirement already satisfied: contractions in c:\\training\\project\\senti-env\\lib\\site-packages (0.1.73)\n",
      "Requirement already satisfied: pillow>=6.2.0 in c:\\training\\project\\senti-env\\lib\\site-packages (from matplotlib==3.7.3) (10.0.1)\n",
      "Requirement already satisfied: contourpy>=1.0.1 in c:\\training\\project\\senti-env\\lib\\site-packages (from matplotlib==3.7.3) (1.1.1)\n",
      "Requirement already satisfied: python-dateutil>=2.7 in c:\\training\\project\\senti-env\\lib\\site-packages (from matplotlib==3.7.3) (2.8.2)\n",
      "Requirement already satisfied: importlib-resources>=3.2.0 in c:\\training\\project\\senti-env\\lib\\site-packages (from matplotlib==3.7.3) (6.1.0)\n",
      "Requirement already satisfied: fonttools>=4.22.0 in c:\\training\\project\\senti-env\\lib\\site-packages (from matplotlib==3.7.3) (4.42.1)\n",
      "Requirement already satisfied: pyparsing>=2.3.1 in c:\\training\\project\\senti-env\\lib\\site-packages (from matplotlib==3.7.3) (3.1.1)\n",
      "Requirement already satisfied: cycler>=0.10 in c:\\training\\project\\senti-env\\lib\\site-packages (from matplotlib==3.7.3) (0.11.0)\n",
      "Requirement already satisfied: packaging>=20.0 in c:\\training\\project\\senti-env\\lib\\site-packages (from matplotlib==3.7.3) (23.1)\n",
      "Requirement already satisfied: kiwisolver>=1.0.1 in c:\\training\\project\\senti-env\\lib\\site-packages (from matplotlib==3.7.3) (1.4.5)\n",
      "Requirement already satisfied: tzdata in c:\\training\\project\\senti-env\\lib\\site-packages (from django) (2023.3)\n",
      "Requirement already satisfied: asgiref<4,>=3.6.0 in c:\\training\\project\\senti-env\\lib\\site-packages (from django) (3.7.2)\n",
      "Requirement already satisfied: sqlparse>=0.3.1 in c:\\training\\project\\senti-env\\lib\\site-packages (from django) (0.4.4)\n",
      "Requirement already satisfied: tqdm<5.0.0,>=4.62.2 in c:\\training\\project\\senti-env\\lib\\site-packages (from djlint) (4.66.1)\n",
      "Requirement already satisfied: colorama<0.5.0,>=0.4.4 in c:\\training\\project\\senti-env\\lib\\site-packages (from djlint) (0.4.6)\n",
      "Requirement already satisfied: cssbeautifier<2.0.0,>=1.14.4 in c:\\training\\project\\senti-env\\lib\\site-packages (from djlint) (1.14.9)\n",
      "Requirement already satisfied: pathspec<0.12.0,>=0.11.0 in c:\\training\\project\\senti-env\\lib\\site-packages (from djlint) (0.11.2)\n",
      "Requirement already satisfied: tomli<3.0.0,>=2.0.1 in c:\\training\\project\\senti-env\\lib\\site-packages (from djlint) (2.0.1)\n",
      "Requirement already satisfied: html-tag-names<0.2.0,>=0.1.2 in c:\\training\\project\\senti-env\\lib\\site-packages (from djlint) (0.1.2)\n",
      "Requirement already satisfied: json5<0.10.0,>=0.9.11 in c:\\training\\project\\senti-env\\lib\\site-packages (from djlint) (0.9.14)\n",
      "Requirement already satisfied: PyYAML<7.0,>=6.0 in c:\\training\\project\\senti-env\\lib\\site-packages (from djlint) (6.0.1)\n",
      "Requirement already satisfied: jsbeautifier<2.0.0,>=1.14.4 in c:\\training\\project\\senti-env\\lib\\site-packages (from djlint) (1.14.9)\n",
      "Requirement already satisfied: html-void-elements<0.2.0,>=0.1.0 in c:\\training\\project\\senti-env\\lib\\site-packages (from djlint) (0.1.0)\n",
      "Requirement already satisfied: click<9.0.0,>=8.0.1 in c:\\training\\project\\senti-env\\lib\\site-packages (from djlint) (8.1.7)\n",
      "Requirement already satisfied: regex<2024.0.0,>=2023.0.0 in c:\\training\\project\\senti-env\\lib\\site-packages (from djlint) (2023.8.8)\n",
      "Requirement already satisfied: pytz>=2020.1 in c:\\training\\project\\senti-env\\lib\\site-packages (from pandas) (2023.3.post1)\n",
      "Requirement already satisfied: notebook in c:\\training\\project\\senti-env\\lib\\site-packages (from jupyter) (7.0.4)\n",
      "Requirement already satisfied: ipywidgets in c:\\training\\project\\senti-env\\lib\\site-packages (from jupyter) (8.1.1)\n",
      "Requirement already satisfied: jupyter-console in c:\\training\\project\\senti-env\\lib\\site-packages (from jupyter) (6.6.3)\n",
      "Requirement already satisfied: qtconsole in c:\\training\\project\\senti-env\\lib\\site-packages (from jupyter) (5.4.4)\n",
      "Requirement already satisfied: ipykernel in c:\\training\\project\\senti-env\\lib\\site-packages (from jupyter) (6.25.2)\n",
      "Requirement already satisfied: nbconvert in c:\\training\\project\\senti-env\\lib\\site-packages (from jupyter) (7.8.0)\n",
      "Requirement already satisfied: typer<0.10.0,>=0.3.0 in c:\\training\\project\\senti-env\\lib\\site-packages (from spacy) (0.9.0)\n",
      "Requirement already satisfied: spacy-legacy<3.1.0,>=3.0.11 in c:\\training\\project\\senti-env\\lib\\site-packages (from spacy) (3.0.12)\n",
      "Requirement already satisfied: jinja2 in c:\\training\\project\\senti-env\\lib\\site-packages (from spacy) (3.1.2)\n",
      "Requirement already satisfied: langcodes<4.0.0,>=3.2.0 in c:\\training\\project\\senti-env\\lib\\site-packages (from spacy) (3.3.0)\n",
      "Requirement already satisfied: catalogue<2.1.0,>=2.0.6 in c:\\training\\project\\senti-env\\lib\\site-packages (from spacy) (2.0.10)\n",
      "Requirement already satisfied: requests<3.0.0,>=2.13.0 in c:\\training\\project\\senti-env\\lib\\site-packages (from spacy) (2.31.0)\n",
      "Requirement already satisfied: pathy>=0.10.0 in c:\\training\\project\\senti-env\\lib\\site-packages (from spacy) (0.10.2)\n",
      "Requirement already satisfied: thinc<8.3.0,>=8.1.8 in c:\\training\\project\\senti-env\\lib\\site-packages (from spacy) (8.1.12)\n",
      "Requirement already satisfied: murmurhash<1.1.0,>=0.28.0 in c:\\training\\project\\senti-env\\lib\\site-packages (from spacy) (1.0.10)\n",
      "Requirement already satisfied: smart-open<7.0.0,>=5.2.1 in c:\\training\\project\\senti-env\\lib\\site-packages (from spacy) (6.4.0)\n",
      "Requirement already satisfied: preshed<3.1.0,>=3.0.2 in c:\\training\\project\\senti-env\\lib\\site-packages (from spacy) (3.0.9)\n",
      "Requirement already satisfied: wasabi<1.2.0,>=0.9.1 in c:\\training\\project\\senti-env\\lib\\site-packages (from spacy) (1.1.2)\n",
      "Requirement already satisfied: cymem<2.1.0,>=2.0.2 in c:\\training\\project\\senti-env\\lib\\site-packages (from spacy) (2.0.8)\n",
      "Requirement already satisfied: pydantic!=1.8,!=1.8.1,<3.0.0,>=1.7.4 in c:\\training\\project\\senti-env\\lib\\site-packages (from spacy) (2.4.0)\n",
      "Requirement already satisfied: setuptools in c:\\training\\project\\senti-env\\lib\\site-packages (from spacy) (58.1.0)\n",
      "Collecting weasel<0.4.0,>=0.1.0\n",
      "  Downloading weasel-0.3.1-py3-none-any.whl (50 kB)\n",
      "     -------------------------------------- 50.0/50.0 KB 115.6 kB/s eta 0:00:00\n",
      "Requirement already satisfied: spacy-loggers<2.0.0,>=1.0.0 in c:\\training\\project\\senti-env\\lib\\site-packages (from spacy) (1.0.5)\n",
      "Requirement already satisfied: srsly<3.0.0,>=2.4.3 in c:\\training\\project\\senti-env\\lib\\site-packages (from spacy) (2.4.8)\n",
      "Requirement already satisfied: threadpoolctl>=2.0.0 in c:\\training\\project\\senti-env\\lib\\site-packages (from scikit-learn) (3.2.0)\n",
      "Requirement already satisfied: scipy>=1.5.0 in c:\\training\\project\\senti-env\\lib\\site-packages (from scikit-learn) (1.11.2)\n",
      "Requirement already satisfied: imbalanced-learn in c:\\training\\project\\senti-env\\lib\\site-packages (from imblearn) (0.11.0)\n",
      "Requirement already satisfied: textsearch>=0.0.21 in c:\\training\\project\\senti-env\\lib\\site-packages (from contractions) (0.0.24)\n",
      "Requirement already satisfied: typing-extensions>=4 in c:\\training\\project\\senti-env\\lib\\site-packages (from asgiref<4,>=3.6.0->django) (4.8.0)\n",
      "Requirement already satisfied: editorconfig>=0.12.2 in c:\\training\\project\\senti-env\\lib\\site-packages (from cssbeautifier<2.0.0,>=1.14.4->djlint) (0.12.3)\n",
      "Requirement already satisfied: six>=1.13.0 in c:\\training\\project\\senti-env\\lib\\site-packages (from cssbeautifier<2.0.0,>=1.14.4->djlint) (1.16.0)\n",
      "Requirement already satisfied: zipp>=3.1.0 in c:\\training\\project\\senti-env\\lib\\site-packages (from importlib-resources>=3.2.0->matplotlib==3.7.3) (3.17.0)\n",
      "Requirement already satisfied: pydantic-core==2.10.0 in c:\\training\\project\\senti-env\\lib\\site-packages (from pydantic!=1.8,!=1.8.1,<3.0.0,>=1.7.4->spacy) (2.10.0)\n",
      "Requirement already satisfied: annotated-types>=0.4.0 in c:\\training\\project\\senti-env\\lib\\site-packages (from pydantic!=1.8,!=1.8.1,<3.0.0,>=1.7.4->spacy) (0.5.0)\n",
      "Requirement already satisfied: urllib3<3,>=1.21.1 in c:\\training\\project\\senti-env\\lib\\site-packages (from requests<3.0.0,>=2.13.0->spacy) (2.0.5)\n",
      "Requirement already satisfied: idna<4,>=2.5 in c:\\training\\project\\senti-env\\lib\\site-packages (from requests<3.0.0,>=2.13.0->spacy) (3.4)\n",
      "Requirement already satisfied: charset-normalizer<4,>=2 in c:\\training\\project\\senti-env\\lib\\site-packages (from requests<3.0.0,>=2.13.0->spacy) (3.2.0)\n",
      "Requirement already satisfied: certifi>=2017.4.17 in c:\\training\\project\\senti-env\\lib\\site-packages (from requests<3.0.0,>=2.13.0->spacy) (2023.7.22)\n",
      "Requirement already satisfied: anyascii in c:\\training\\project\\senti-env\\lib\\site-packages (from textsearch>=0.0.21->contractions) (0.3.2)\n",
      "Requirement already satisfied: pyahocorasick in c:\\training\\project\\senti-env\\lib\\site-packages (from textsearch>=0.0.21->contractions) (2.0.0)\n",
      "Requirement already satisfied: blis<0.8.0,>=0.7.8 in c:\\training\\project\\senti-env\\lib\\site-packages (from thinc<8.3.0,>=8.1.8->spacy) (0.7.11)\n",
      "Requirement already satisfied: confection<1.0.0,>=0.0.1 in c:\\training\\project\\senti-env\\lib\\site-packages (from thinc<8.3.0,>=8.1.8->spacy) (0.1.3)\n",
      "Collecting cloudpathlib<0.16.0,>=0.7.0\n",
      "  Downloading cloudpathlib-0.15.1-py3-none-any.whl (43 kB)\n",
      "     --------------------------------------- 43.9/43.9 KB 37.8 kB/s eta 0:00:00\n",
      "Collecting typer<0.10.0,>=0.3.0\n",
      "  Downloading typer-0.7.0-py3-none-any.whl (38 kB)\n",
      "Requirement already satisfied: pyzmq>=20 in c:\\training\\project\\senti-env\\lib\\site-packages (from ipykernel->jupyter) (25.1.1)\n",
      "Requirement already satisfied: jupyter-core!=5.0.*,>=4.12 in c:\\training\\project\\senti-env\\lib\\site-packages (from ipykernel->jupyter) (5.3.1)\n",
      "Requirement already satisfied: ipython>=7.23.1 in c:\\training\\project\\senti-env\\lib\\site-packages (from ipykernel->jupyter) (8.15.0)\n",
      "Requirement already satisfied: traitlets>=5.4.0 in c:\\training\\project\\senti-env\\lib\\site-packages (from ipykernel->jupyter) (5.10.0)\n",
      "Requirement already satisfied: debugpy>=1.6.5 in c:\\training\\project\\senti-env\\lib\\site-packages (from ipykernel->jupyter) (1.8.0)\n",
      "Requirement already satisfied: comm>=0.1.1 in c:\\training\\project\\senti-env\\lib\\site-packages (from ipykernel->jupyter) (0.1.4)\n",
      "Requirement already satisfied: jupyter-client>=6.1.12 in c:\\training\\project\\senti-env\\lib\\site-packages (from ipykernel->jupyter) (8.3.1)\n",
      "Requirement already satisfied: matplotlib-inline>=0.1 in c:\\training\\project\\senti-env\\lib\\site-packages (from ipykernel->jupyter) (0.1.6)\n",
      "Requirement already satisfied: tornado>=6.1 in c:\\training\\project\\senti-env\\lib\\site-packages (from ipykernel->jupyter) (6.3.3)\n",
      "Requirement already satisfied: psutil in c:\\training\\project\\senti-env\\lib\\site-packages (from ipykernel->jupyter) (5.9.5)\n",
      "Requirement already satisfied: nest-asyncio in c:\\training\\project\\senti-env\\lib\\site-packages (from ipykernel->jupyter) (1.5.8)\n",
      "Requirement already satisfied: widgetsnbextension~=4.0.9 in c:\\training\\project\\senti-env\\lib\\site-packages (from ipywidgets->jupyter) (4.0.9)\n",
      "Requirement already satisfied: jupyterlab-widgets~=3.0.9 in c:\\training\\project\\senti-env\\lib\\site-packages (from ipywidgets->jupyter) (3.0.9)\n",
      "Requirement already satisfied: MarkupSafe>=2.0 in c:\\training\\project\\senti-env\\lib\\site-packages (from jinja2->spacy) (2.1.3)\n",
      "Requirement already satisfied: prompt-toolkit>=3.0.30 in c:\\training\\project\\senti-env\\lib\\site-packages (from jupyter-console->jupyter) (3.0.39)\n",
      "Requirement already satisfied: pygments in c:\\training\\project\\senti-env\\lib\\site-packages (from jupyter-console->jupyter) (2.16.1)\n",
      "Requirement already satisfied: jupyterlab-pygments in c:\\training\\project\\senti-env\\lib\\site-packages (from nbconvert->jupyter) (0.2.2)\n",
      "Requirement already satisfied: mistune<4,>=2.0.3 in c:\\training\\project\\senti-env\\lib\\site-packages (from nbconvert->jupyter) (3.0.1)\n",
      "Requirement already satisfied: pandocfilters>=1.4.1 in c:\\training\\project\\senti-env\\lib\\site-packages (from nbconvert->jupyter) (1.5.0)\n",
      "Requirement already satisfied: defusedxml in c:\\training\\project\\senti-env\\lib\\site-packages (from nbconvert->jupyter) (0.7.1)\n",
      "Requirement already satisfied: beautifulsoup4 in c:\\training\\project\\senti-env\\lib\\site-packages (from nbconvert->jupyter) (4.12.2)\n",
      "Requirement already satisfied: nbclient>=0.5.0 in c:\\training\\project\\senti-env\\lib\\site-packages (from nbconvert->jupyter) (0.8.0)\n",
      "Requirement already satisfied: bleach!=5.0.0 in c:\\training\\project\\senti-env\\lib\\site-packages (from nbconvert->jupyter) (6.0.0)\n",
      "Requirement already satisfied: tinycss2 in c:\\training\\project\\senti-env\\lib\\site-packages (from nbconvert->jupyter) (1.2.1)\n",
      "Requirement already satisfied: nbformat>=5.7 in c:\\training\\project\\senti-env\\lib\\site-packages (from nbconvert->jupyter) (5.9.2)\n",
      "Requirement already satisfied: importlib-metadata>=3.6 in c:\\training\\project\\senti-env\\lib\\site-packages (from nbconvert->jupyter) (6.8.0)\n",
      "Requirement already satisfied: jupyterlab-server<3,>=2.22.1 in c:\\training\\project\\senti-env\\lib\\site-packages (from notebook->jupyter) (2.25.0)\n",
      "Requirement already satisfied: notebook-shim<0.3,>=0.2 in c:\\training\\project\\senti-env\\lib\\site-packages (from notebook->jupyter) (0.2.3)\n",
      "Requirement already satisfied: jupyter-server<3,>=2.4.0 in c:\\training\\project\\senti-env\\lib\\site-packages (from notebook->jupyter) (2.7.3)\n",
      "Requirement already satisfied: jupyterlab<5,>=4.0.2 in c:\\training\\project\\senti-env\\lib\\site-packages (from notebook->jupyter) (4.0.6)\n",
      "Requirement already satisfied: ipython-genutils in c:\\training\\project\\senti-env\\lib\\site-packages (from qtconsole->jupyter) (0.2.0)\n",
      "Requirement already satisfied: qtpy>=2.4.0 in c:\\training\\project\\senti-env\\lib\\site-packages (from qtconsole->jupyter) (2.4.0)\n",
      "Requirement already satisfied: webencodings in c:\\training\\project\\senti-env\\lib\\site-packages (from bleach!=5.0.0->nbconvert->jupyter) (0.5.1)\n",
      "Requirement already satisfied: backcall in c:\\training\\project\\senti-env\\lib\\site-packages (from ipython>=7.23.1->ipykernel->jupyter) (0.2.0)\n",
      "Requirement already satisfied: exceptiongroup in c:\\training\\project\\senti-env\\lib\\site-packages (from ipython>=7.23.1->ipykernel->jupyter) (1.1.3)\n",
      "Requirement already satisfied: jedi>=0.16 in c:\\training\\project\\senti-env\\lib\\site-packages (from ipython>=7.23.1->ipykernel->jupyter) (0.19.0)\n",
      "Requirement already satisfied: pickleshare in c:\\training\\project\\senti-env\\lib\\site-packages (from ipython>=7.23.1->ipykernel->jupyter) (0.7.5)\n",
      "Requirement already satisfied: stack-data in c:\\training\\project\\senti-env\\lib\\site-packages (from ipython>=7.23.1->ipykernel->jupyter) (0.6.2)\n",
      "Requirement already satisfied: decorator in c:\\training\\project\\senti-env\\lib\\site-packages (from ipython>=7.23.1->ipykernel->jupyter) (5.1.1)\n",
      "Requirement already satisfied: pywin32>=300 in c:\\training\\project\\senti-env\\lib\\site-packages (from jupyter-core!=5.0.*,>=4.12->ipykernel->jupyter) (306)\n",
      "Requirement already satisfied: platformdirs>=2.5 in c:\\training\\project\\senti-env\\lib\\site-packages (from jupyter-core!=5.0.*,>=4.12->ipykernel->jupyter) (3.10.0)\n",
      "Requirement already satisfied: argon2-cffi in c:\\training\\project\\senti-env\\lib\\site-packages (from jupyter-server<3,>=2.4.0->notebook->jupyter) (23.1.0)\n",
      "Requirement already satisfied: jupyter-server-terminals in c:\\training\\project\\senti-env\\lib\\site-packages (from jupyter-server<3,>=2.4.0->notebook->jupyter) (0.4.4)\n",
      "Requirement already satisfied: websocket-client in c:\\training\\project\\senti-env\\lib\\site-packages (from jupyter-server<3,>=2.4.0->notebook->jupyter) (1.6.3)\n",
      "Requirement already satisfied: jupyter-events>=0.6.0 in c:\\training\\project\\senti-env\\lib\\site-packages (from jupyter-server<3,>=2.4.0->notebook->jupyter) (0.7.0)\n",
      "Requirement already satisfied: pywinpty in c:\\training\\project\\senti-env\\lib\\site-packages (from jupyter-server<3,>=2.4.0->notebook->jupyter) (2.0.11)\n",
      "Requirement already satisfied: terminado>=0.8.3 in c:\\training\\project\\senti-env\\lib\\site-packages (from jupyter-server<3,>=2.4.0->notebook->jupyter) (0.17.1)\n",
      "Requirement already satisfied: send2trash>=1.8.2 in c:\\training\\project\\senti-env\\lib\\site-packages (from jupyter-server<3,>=2.4.0->notebook->jupyter) (1.8.2)\n",
      "Requirement already satisfied: prometheus-client in c:\\training\\project\\senti-env\\lib\\site-packages (from jupyter-server<3,>=2.4.0->notebook->jupyter) (0.17.1)\n",
      "Requirement already satisfied: overrides in c:\\training\\project\\senti-env\\lib\\site-packages (from jupyter-server<3,>=2.4.0->notebook->jupyter) (7.4.0)\n",
      "Requirement already satisfied: anyio>=3.1.0 in c:\\training\\project\\senti-env\\lib\\site-packages (from jupyter-server<3,>=2.4.0->notebook->jupyter) (4.0.0)\n",
      "Requirement already satisfied: async-lru>=1.0.0 in c:\\training\\project\\senti-env\\lib\\site-packages (from jupyterlab<5,>=4.0.2->notebook->jupyter) (2.0.4)\n",
      "Requirement already satisfied: jupyter-lsp>=2.0.0 in c:\\training\\project\\senti-env\\lib\\site-packages (from jupyterlab<5,>=4.0.2->notebook->jupyter) (2.2.0)\n",
      "Requirement already satisfied: babel>=2.10 in c:\\training\\project\\senti-env\\lib\\site-packages (from jupyterlab-server<3,>=2.22.1->notebook->jupyter) (2.12.1)\n",
      "Requirement already satisfied: jsonschema>=4.18.0 in c:\\training\\project\\senti-env\\lib\\site-packages (from jupyterlab-server<3,>=2.22.1->notebook->jupyter) (4.19.1)\n",
      "Requirement already satisfied: fastjsonschema in c:\\training\\project\\senti-env\\lib\\site-packages (from nbformat>=5.7->nbconvert->jupyter) (2.18.0)\n",
      "Requirement already satisfied: wcwidth in c:\\training\\project\\senti-env\\lib\\site-packages (from prompt-toolkit>=3.0.30->jupyter-console->jupyter) (0.2.6)\n",
      "Requirement already satisfied: soupsieve>1.2 in c:\\training\\project\\senti-env\\lib\\site-packages (from beautifulsoup4->nbconvert->jupyter) (2.5)\n",
      "Requirement already satisfied: sniffio>=1.1 in c:\\training\\project\\senti-env\\lib\\site-packages (from anyio>=3.1.0->jupyter-server<3,>=2.4.0->notebook->jupyter) (1.3.0)\n",
      "Requirement already satisfied: parso<0.9.0,>=0.8.3 in c:\\training\\project\\senti-env\\lib\\site-packages (from jedi>=0.16->ipython>=7.23.1->ipykernel->jupyter) (0.8.3)\n",
      "Requirement already satisfied: referencing>=0.28.4 in c:\\training\\project\\senti-env\\lib\\site-packages (from jsonschema>=4.18.0->jupyterlab-server<3,>=2.22.1->notebook->jupyter) (0.30.2)\n",
      "Requirement already satisfied: rpds-py>=0.7.1 in c:\\training\\project\\senti-env\\lib\\site-packages (from jsonschema>=4.18.0->jupyterlab-server<3,>=2.22.1->notebook->jupyter) (0.10.3)\n",
      "Requirement already satisfied: jsonschema-specifications>=2023.03.6 in c:\\training\\project\\senti-env\\lib\\site-packages (from jsonschema>=4.18.0->jupyterlab-server<3,>=2.22.1->notebook->jupyter) (2023.7.1)\n",
      "Requirement already satisfied: attrs>=22.2.0 in c:\\training\\project\\senti-env\\lib\\site-packages (from jsonschema>=4.18.0->jupyterlab-server<3,>=2.22.1->notebook->jupyter) (23.1.0)\n",
      "Requirement already satisfied: rfc3339-validator in c:\\training\\project\\senti-env\\lib\\site-packages (from jupyter-events>=0.6.0->jupyter-server<3,>=2.4.0->notebook->jupyter) (0.1.4)\n",
      "Requirement already satisfied: rfc3986-validator>=0.1.1 in c:\\training\\project\\senti-env\\lib\\site-packages (from jupyter-events>=0.6.0->jupyter-server<3,>=2.4.0->notebook->jupyter) (0.1.1)\n",
      "Requirement already satisfied: python-json-logger>=2.0.4 in c:\\training\\project\\senti-env\\lib\\site-packages (from jupyter-events>=0.6.0->jupyter-server<3,>=2.4.0->notebook->jupyter) (2.0.7)\n",
      "Requirement already satisfied: argon2-cffi-bindings in c:\\training\\project\\senti-env\\lib\\site-packages (from argon2-cffi->jupyter-server<3,>=2.4.0->notebook->jupyter) (21.2.0)\n",
      "Requirement already satisfied: asttokens>=2.1.0 in c:\\training\\project\\senti-env\\lib\\site-packages (from stack-data->ipython>=7.23.1->ipykernel->jupyter) (2.4.0)\n",
      "Requirement already satisfied: executing>=1.2.0 in c:\\training\\project\\senti-env\\lib\\site-packages (from stack-data->ipython>=7.23.1->ipykernel->jupyter) (1.2.0)\n",
      "Requirement already satisfied: pure-eval in c:\\training\\project\\senti-env\\lib\\site-packages (from stack-data->ipython>=7.23.1->ipykernel->jupyter) (0.2.2)\n",
      "Requirement already satisfied: jsonpointer>1.13 in c:\\training\\project\\senti-env\\lib\\site-packages (from jsonschema>=4.18.0->jupyterlab-server<3,>=2.22.1->notebook->jupyter) (2.4)\n",
      "Requirement already satisfied: webcolors>=1.11 in c:\\training\\project\\senti-env\\lib\\site-packages (from jsonschema>=4.18.0->jupyterlab-server<3,>=2.22.1->notebook->jupyter) (1.13)\n",
      "Requirement already satisfied: fqdn in c:\\training\\project\\senti-env\\lib\\site-packages (from jsonschema>=4.18.0->jupyterlab-server<3,>=2.22.1->notebook->jupyter) (1.5.1)\n",
      "Requirement already satisfied: uri-template in c:\\training\\project\\senti-env\\lib\\site-packages (from jsonschema>=4.18.0->jupyterlab-server<3,>=2.22.1->notebook->jupyter) (1.3.0)\n",
      "Requirement already satisfied: isoduration in c:\\training\\project\\senti-env\\lib\\site-packages (from jsonschema>=4.18.0->jupyterlab-server<3,>=2.22.1->notebook->jupyter) (20.11.0)\n",
      "Requirement already satisfied: cffi>=1.0.1 in c:\\training\\project\\senti-env\\lib\\site-packages (from argon2-cffi-bindings->argon2-cffi->jupyter-server<3,>=2.4.0->notebook->jupyter) (1.15.1)\n",
      "Requirement already satisfied: pycparser in c:\\training\\project\\senti-env\\lib\\site-packages (from cffi>=1.0.1->argon2-cffi-bindings->argon2-cffi->jupyter-server<3,>=2.4.0->notebook->jupyter) (2.21)\n",
      "Requirement already satisfied: arrow>=0.15.0 in c:\\training\\project\\senti-env\\lib\\site-packages (from isoduration->jsonschema>=4.18.0->jupyterlab-server<3,>=2.22.1->notebook->jupyter) (1.2.3)\n",
      "Installing collected packages: cloudpathlib, typer, weasel, imblearn, spacy\n",
      "  Attempting uninstall: typer\n",
      "    Found existing installation: typer 0.9.0\n",
      "    Uninstalling typer-0.9.0:\n",
      "      Successfully uninstalled typer-0.9.0\n",
      "Successfully installed cloudpathlib-0.15.1 imblearn-0.0 spacy-3.7.0 typer-0.7.0 weasel-0.3.1\n",
      "Note: you may need to restart the kernel to use updated packages.\n"
     ]
    },
    {
     "name": "stderr",
     "output_type": "stream",
     "text": [
      "WARNING: Ignoring invalid distribution -atplotlib (c:\\training\\project\\senti-env\\lib\\site-packages)\n",
      "WARNING: Ignoring invalid distribution -atplotlib (c:\\training\\project\\senti-env\\lib\\site-packages)\n",
      "WARNING: Ignoring invalid distribution -atplotlib (c:\\training\\project\\senti-env\\lib\\site-packages)\n",
      "    WARNING: Ignoring invalid distribution -atplotlib (c:\\training\\project\\senti-env\\lib\\site-packages)\n",
      "WARNING: Ignoring invalid distribution -atplotlib (c:\\training\\project\\senti-env\\lib\\site-packages)\n",
      "WARNING: Ignoring invalid distribution -atplotlib (c:\\training\\project\\senti-env\\lib\\site-packages)\n",
      "WARNING: Ignoring invalid distribution -atplotlib (c:\\training\\project\\senti-env\\lib\\site-packages)\n",
      "WARNING: Ignoring invalid distribution -atplotlib (c:\\training\\project\\senti-env\\lib\\site-packages)\n",
      "WARNING: Ignoring invalid distribution -atplotlib (c:\\training\\project\\senti-env\\lib\\site-packages)\n",
      "ERROR: pip's dependency resolver does not currently take into account all the packages that are installed. This behaviour is the source of the following dependency conflicts.\n",
      "en-core-web-sm 3.6.0 requires spacy<3.7.0,>=3.6.0, but you have spacy 3.7.0 which is incompatible.\n",
      "WARNING: Ignoring invalid distribution -atplotlib (c:\\training\\project\\senti-env\\lib\\site-packages)\n",
      "WARNING: Ignoring invalid distribution -atplotlib (c:\\training\\project\\senti-env\\lib\\site-packages)\n",
      "WARNING: Ignoring invalid distribution -atplotlib (c:\\training\\project\\senti-env\\lib\\site-packages)\n",
      "WARNING: You are using pip version 22.0.4; however, version 23.2.1 is available.\n",
      "You should consider upgrading via the 'c:\\Training\\Project\\senti-env\\Scripts\\python.exe -m pip install --upgrade pip' command.\n"
     ]
    },
    {
     "name": "stdout",
     "output_type": "stream",
     "text": [
      "Collecting en-core-web-sm==3.7.0\n",
      "  Downloading https://github.com/explosion/spacy-models/releases/download/en_core_web_sm-3.7.0/en_core_web_sm-3.7.0-py3-none-any.whl (12.8 MB)\n",
      "     ---------------------------------------- 12.8/12.8 MB 3.6 MB/s eta 0:00:00\n",
      "Requirement already satisfied: spacy<3.8.0,>=3.7.0 in c:\\training\\project\\senti-env\\lib\\site-packages (from en-core-web-sm==3.7.0) (3.7.0)\n",
      "Requirement already satisfied: thinc<8.3.0,>=8.1.8 in c:\\training\\project\\senti-env\\lib\\site-packages (from spacy<3.8.0,>=3.7.0->en-core-web-sm==3.7.0) (8.1.12)\n",
      "Requirement already satisfied: tqdm<5.0.0,>=4.38.0 in c:\\training\\project\\senti-env\\lib\\site-packages (from spacy<3.8.0,>=3.7.0->en-core-web-sm==3.7.0) (4.66.1)\n",
      "Requirement already satisfied: catalogue<2.1.0,>=2.0.6 in c:\\training\\project\\senti-env\\lib\\site-packages (from spacy<3.8.0,>=3.7.0->en-core-web-sm==3.7.0) (2.0.10)\n",
      "Requirement already satisfied: spacy-loggers<2.0.0,>=1.0.0 in c:\\training\\project\\senti-env\\lib\\site-packages (from spacy<3.8.0,>=3.7.0->en-core-web-sm==3.7.0) (1.0.5)\n",
      "Requirement already satisfied: setuptools in c:\\training\\project\\senti-env\\lib\\site-packages (from spacy<3.8.0,>=3.7.0->en-core-web-sm==3.7.0) (58.1.0)\n",
      "Requirement already satisfied: wasabi<1.2.0,>=0.9.1 in c:\\training\\project\\senti-env\\lib\\site-packages (from spacy<3.8.0,>=3.7.0->en-core-web-sm==3.7.0) (1.1.2)\n",
      "Requirement already satisfied: langcodes<4.0.0,>=3.2.0 in c:\\training\\project\\senti-env\\lib\\site-packages (from spacy<3.8.0,>=3.7.0->en-core-web-sm==3.7.0) (3.3.0)\n",
      "Requirement already satisfied: cymem<2.1.0,>=2.0.2 in c:\\training\\project\\senti-env\\lib\\site-packages (from spacy<3.8.0,>=3.7.0->en-core-web-sm==3.7.0) (2.0.8)\n",
      "Requirement already satisfied: pathy>=0.10.0 in c:\\training\\project\\senti-env\\lib\\site-packages (from spacy<3.8.0,>=3.7.0->en-core-web-sm==3.7.0) (0.10.2)\n",
      "Requirement already satisfied: smart-open<7.0.0,>=5.2.1 in c:\\training\\project\\senti-env\\lib\\site-packages (from spacy<3.8.0,>=3.7.0->en-core-web-sm==3.7.0) (6.4.0)\n",
      "Requirement already satisfied: jinja2 in c:\\training\\project\\senti-env\\lib\\site-packages (from spacy<3.8.0,>=3.7.0->en-core-web-sm==3.7.0) (3.1.2)\n",
      "Requirement already satisfied: packaging>=20.0 in c:\\training\\project\\senti-env\\lib\\site-packages (from spacy<3.8.0,>=3.7.0->en-core-web-sm==3.7.0) (23.1)\n",
      "Requirement already satisfied: requests<3.0.0,>=2.13.0 in c:\\training\\project\\senti-env\\lib\\site-packages (from spacy<3.8.0,>=3.7.0->en-core-web-sm==3.7.0) (2.31.0)\n",
      "Requirement already satisfied: numpy>=1.19.0 in c:\\training\\project\\senti-env\\lib\\site-packages (from spacy<3.8.0,>=3.7.0->en-core-web-sm==3.7.0) (1.26.0)\n",
      "Requirement already satisfied: preshed<3.1.0,>=3.0.2 in c:\\training\\project\\senti-env\\lib\\site-packages (from spacy<3.8.0,>=3.7.0->en-core-web-sm==3.7.0) (3.0.9)\n",
      "Requirement already satisfied: weasel<0.4.0,>=0.1.0 in c:\\training\\project\\senti-env\\lib\\site-packages (from spacy<3.8.0,>=3.7.0->en-core-web-sm==3.7.0) (0.3.1)\n",
      "Requirement already satisfied: pydantic!=1.8,!=1.8.1,<3.0.0,>=1.7.4 in c:\\training\\project\\senti-env\\lib\\site-packages (from spacy<3.8.0,>=3.7.0->en-core-web-sm==3.7.0) (2.4.0)\n",
      "Requirement already satisfied: spacy-legacy<3.1.0,>=3.0.11 in c:\\training\\project\\senti-env\\lib\\site-packages (from spacy<3.8.0,>=3.7.0->en-core-web-sm==3.7.0) (3.0.12)\n",
      "Requirement already satisfied: murmurhash<1.1.0,>=0.28.0 in c:\\training\\project\\senti-env\\lib\\site-packages (from spacy<3.8.0,>=3.7.0->en-core-web-sm==3.7.0) (1.0.10)\n",
      "Requirement already satisfied: typer<0.10.0,>=0.3.0 in c:\\training\\project\\senti-env\\lib\\site-packages (from spacy<3.8.0,>=3.7.0->en-core-web-sm==3.7.0) (0.7.0)\n",
      "Requirement already satisfied: srsly<3.0.0,>=2.4.3 in c:\\training\\project\\senti-env\\lib\\site-packages (from spacy<3.8.0,>=3.7.0->en-core-web-sm==3.7.0) (2.4.8)\n",
      "Requirement already satisfied: annotated-types>=0.4.0 in c:\\training\\project\\senti-env\\lib\\site-packages (from pydantic!=1.8,!=1.8.1,<3.0.0,>=1.7.4->spacy<3.8.0,>=3.7.0->en-core-web-sm==3.7.0) (0.5.0)\n",
      "Requirement already satisfied: pydantic-core==2.10.0 in c:\\training\\project\\senti-env\\lib\\site-packages (from pydantic!=1.8,!=1.8.1,<3.0.0,>=1.7.4->spacy<3.8.0,>=3.7.0->en-core-web-sm==3.7.0) (2.10.0)\n",
      "Requirement already satisfied: typing-extensions>=4.6.1 in c:\\training\\project\\senti-env\\lib\\site-packages (from pydantic!=1.8,!=1.8.1,<3.0.0,>=1.7.4->spacy<3.8.0,>=3.7.0->en-core-web-sm==3.7.0) (4.8.0)\n",
      "Requirement already satisfied: idna<4,>=2.5 in c:\\training\\project\\senti-env\\lib\\site-packages (from requests<3.0.0,>=2.13.0->spacy<3.8.0,>=3.7.0->en-core-web-sm==3.7.0) (3.4)\n",
      "Requirement already satisfied: urllib3<3,>=1.21.1 in c:\\training\\project\\senti-env\\lib\\site-packages (from requests<3.0.0,>=2.13.0->spacy<3.8.0,>=3.7.0->en-core-web-sm==3.7.0) (2.0.5)\n",
      "Requirement already satisfied: charset-normalizer<4,>=2 in c:\\training\\project\\senti-env\\lib\\site-packages (from requests<3.0.0,>=2.13.0->spacy<3.8.0,>=3.7.0->en-core-web-sm==3.7.0) (3.2.0)\n",
      "Requirement already satisfied: certifi>=2017.4.17 in c:\\training\\project\\senti-env\\lib\\site-packages (from requests<3.0.0,>=2.13.0->spacy<3.8.0,>=3.7.0->en-core-web-sm==3.7.0) (2023.7.22)\n",
      "Requirement already satisfied: confection<1.0.0,>=0.0.1 in c:\\training\\project\\senti-env\\lib\\site-packages (from thinc<8.3.0,>=8.1.8->spacy<3.8.0,>=3.7.0->en-core-web-sm==3.7.0) (0.1.3)\n",
      "Requirement already satisfied: blis<0.8.0,>=0.7.8 in c:\\training\\project\\senti-env\\lib\\site-packages (from thinc<8.3.0,>=8.1.8->spacy<3.8.0,>=3.7.0->en-core-web-sm==3.7.0) (0.7.11)\n",
      "Requirement already satisfied: colorama in c:\\training\\project\\senti-env\\lib\\site-packages (from tqdm<5.0.0,>=4.38.0->spacy<3.8.0,>=3.7.0->en-core-web-sm==3.7.0) (0.4.6)\n",
      "Requirement already satisfied: click<9.0.0,>=7.1.1 in c:\\training\\project\\senti-env\\lib\\site-packages (from typer<0.10.0,>=0.3.0->spacy<3.8.0,>=3.7.0->en-core-web-sm==3.7.0) (8.1.7)\n",
      "Requirement already satisfied: cloudpathlib<0.16.0,>=0.7.0 in c:\\training\\project\\senti-env\\lib\\site-packages (from weasel<0.4.0,>=0.1.0->spacy<3.8.0,>=3.7.0->en-core-web-sm==3.7.0) (0.15.1)\n",
      "Requirement already satisfied: MarkupSafe>=2.0 in c:\\training\\project\\senti-env\\lib\\site-packages (from jinja2->spacy<3.8.0,>=3.7.0->en-core-web-sm==3.7.0) (2.1.3)\n",
      "Installing collected packages: en-core-web-sm\n",
      "  Attempting uninstall: en-core-web-sm\n",
      "    Found existing installation: en-core-web-sm 3.6.0\n",
      "    Uninstalling en-core-web-sm-3.6.0:\n",
      "      Successfully uninstalled en-core-web-sm-3.6.0\n",
      "Successfully installed en-core-web-sm-3.7.0\n",
      "\u001b[38;5;2m✔ Download and installation successful\u001b[0m\n",
      "You can now load the package via spacy.load('en_core_web_sm')\n"
     ]
    },
    {
     "name": "stderr",
     "output_type": "stream",
     "text": [
      "WARNING: Ignoring invalid distribution -atplotlib (c:\\training\\project\\senti-env\\lib\\site-packages)\n",
      "WARNING: Ignoring invalid distribution -atplotlib (c:\\training\\project\\senti-env\\lib\\site-packages)\n",
      "WARNING: Ignoring invalid distribution -atplotlib (c:\\training\\project\\senti-env\\lib\\site-packages)\n",
      "    WARNING: Ignoring invalid distribution -atplotlib (c:\\training\\project\\senti-env\\lib\\site-packages)\n",
      "WARNING: Ignoring invalid distribution -atplotlib (c:\\training\\project\\senti-env\\lib\\site-packages)\n",
      "WARNING: Ignoring invalid distribution -atplotlib (c:\\training\\project\\senti-env\\lib\\site-packages)\n",
      "WARNING: Ignoring invalid distribution -atplotlib (c:\\training\\project\\senti-env\\lib\\site-packages)\n",
      "WARNING: Ignoring invalid distribution -atplotlib (c:\\training\\project\\senti-env\\lib\\site-packages)\n",
      "WARNING: You are using pip version 22.0.4; however, version 23.2.1 is available.\n",
      "You should consider upgrading via the 'c:\\Training\\Project\\senti-env\\Scripts\\python.exe -m pip install --upgrade pip' command.\n"
     ]
    }
   ],
   "source": [
    "%pip install django djlint numpy pandas matplotlib==3.7.3 seaborn jupyter nltk spacy scikit-learn imblearn joblib nlppreprocess contractions\n",
    "!python -m spacy download en_core_web_sm"
   ]
  },
  {
   "cell_type": "code",
   "execution_count": 2,
   "metadata": {},
   "outputs": [],
   "source": [
    "import pandas as pd\n",
    "import re\n",
    "import numpy as np\n",
    "import matplotlib.pyplot as plt\n",
    "import seaborn as sns\n",
    "import spacy\n",
    "import contractions\n",
    "from nlppreprocess import NLP\n",
    "\n",
    "from sklearn.feature_extraction.text import TfidfVectorizer\n",
    "from imblearn.under_sampling import NearMiss\n",
    "\n",
    "from sklearn.model_selection import train_test_split, GridSearchCV, RandomizedSearchCV\n",
    "from sklearn.metrics import f1_score, balanced_accuracy_score, precision_score, recall_score, confusion_matrix, classification_report\n",
    "\n",
    "from sklearn.naive_bayes import GaussianNB, MultinomialNB, ComplementNB\n",
    "from sklearn.svm import SVC, LinearSVC\n",
    "from sklearn.linear_model import SGDClassifier\n",
    "from sklearn.tree import DecisionTreeClassifier\n",
    "from sklearn.ensemble import RandomForestClassifier\n",
    "from sklearn.linear_model import LogisticRegression\n",
    "\n",
    "import joblib"
   ]
  },
  {
   "cell_type": "code",
   "execution_count": 121,
   "metadata": {},
   "outputs": [
    {
     "name": "stderr",
     "output_type": "stream",
     "text": [
      "C:\\Users\\EANG\\AppData\\Local\\Temp\\ipykernel_14832\\3840874528.py:18: DeprecationWarning: invalid escape sequence '\\m'\n",
      "  df2016_train['text'] = df2016_train['text'].apply(lambda x: x.encode(\"utf-8\").decode(\"unicode-escape\"))\n",
      "C:\\Users\\EANG\\AppData\\Local\\Temp\\ipykernel_14832\\3840874528.py:21: DeprecationWarning: invalid escape sequence '\\ '\n",
      "  df2016_test['text'] = df2016_test['text'].apply(lambda x: x.encode(\"utf-8\").decode(\"unicode-escape\"))\n",
      "C:\\Users\\EANG\\AppData\\Local\\Temp\\ipykernel_14832\\3840874528.py:21: DeprecationWarning: invalid escape sequence '\\i'\n",
      "  df2016_test['text'] = df2016_test['text'].apply(lambda x: x.encode(\"utf-8\").decode(\"unicode-escape\"))\n",
      "C:\\Users\\EANG\\AppData\\Local\\Temp\\ipykernel_14832\\3840874528.py:21: DeprecationWarning: invalid escape sequence '\\('\n",
      "  df2016_test['text'] = df2016_test['text'].apply(lambda x: x.encode(\"utf-8\").decode(\"unicode-escape\"))\n",
      "C:\\Users\\EANG\\AppData\\Local\\Temp\\ipykernel_14832\\3840874528.py:21: DeprecationWarning: invalid escape sequence '\\m'\n",
      "  df2016_test['text'] = df2016_test['text'].apply(lambda x: x.encode(\"utf-8\").decode(\"unicode-escape\"))\n",
      "C:\\Users\\EANG\\AppData\\Local\\Temp\\ipykernel_14832\\3840874528.py:21: DeprecationWarning: invalid escape sequence '\\o'\n",
      "  df2016_test['text'] = df2016_test['text'].apply(lambda x: x.encode(\"utf-8\").decode(\"unicode-escape\"))\n",
      "C:\\Users\\EANG\\AppData\\Local\\Temp\\ipykernel_14832\\3840874528.py:24: DeprecationWarning: invalid escape sequence '\\o'\n",
      "  df2015_test['text'] = df2015_test['text'].apply(lambda x: x.encode(\"utf-8\").decode(\"unicode-escape\"))\n",
      "C:\\Users\\EANG\\AppData\\Local\\Temp\\ipykernel_14832\\3840874528.py:27: DeprecationWarning: invalid escape sequence '\\('\n",
      "  df2014_test['text'] = df2014_test['text'].apply(lambda x: x.encode(\"utf-8\").decode(\"unicode-escape\"))\n",
      "C:\\Users\\EANG\\AppData\\Local\\Temp\\ipykernel_14832\\3840874528.py:29: DeprecationWarning: invalid escape sequence '\\m'\n",
      "  df2013_train['text'] = df2013_train['text'].apply(lambda x: x.encode(\"utf-8\").decode(\"unicode-escape\"))\n",
      "C:\\Users\\EANG\\AppData\\Local\\Temp\\ipykernel_14832\\3840874528.py:29: DeprecationWarning: invalid escape sequence '\\_'\n",
      "  df2013_train['text'] = df2013_train['text'].apply(lambda x: x.encode(\"utf-8\").decode(\"unicode-escape\"))\n",
      "C:\\Users\\EANG\\AppData\\Local\\Temp\\ipykernel_14832\\3840874528.py:29: DeprecationWarning: invalid escape sequence '\\/'\n",
      "  df2013_train['text'] = df2013_train['text'].apply(lambda x: x.encode(\"utf-8\").decode(\"unicode-escape\"))\n",
      "C:\\Users\\EANG\\AppData\\Local\\Temp\\ipykernel_14832\\3840874528.py:29: DeprecationWarning: invalid escape sequence '\\ '\n",
      "  df2013_train['text'] = df2013_train['text'].apply(lambda x: x.encode(\"utf-8\").decode(\"unicode-escape\"))\n",
      "C:\\Users\\EANG\\AppData\\Local\\Temp\\ipykernel_14832\\3840874528.py:30: DeprecationWarning: invalid escape sequence '\\ '\n",
      "  df2013_dev['text'] = df2013_dev['text'].apply(lambda x: x.encode(\"utf-8\").decode(\"unicode-escape\"))\n",
      "C:\\Users\\EANG\\AppData\\Local\\Temp\\ipykernel_14832\\3840874528.py:30: DeprecationWarning: invalid escape sequence '\\m'\n",
      "  df2013_dev['text'] = df2013_dev['text'].apply(lambda x: x.encode(\"utf-8\").decode(\"unicode-escape\"))\n",
      "C:\\Users\\EANG\\AppData\\Local\\Temp\\ipykernel_14832\\3840874528.py:31: DeprecationWarning: invalid escape sequence '\\ '\n",
      "  df2013_test['text'] = df2013_test['text'].apply(lambda x: x.encode(\"utf-8\").decode(\"unicode-escape\"))\n",
      "C:\\Users\\EANG\\AppData\\Local\\Temp\\ipykernel_14832\\3840874528.py:31: DeprecationWarning: invalid escape sequence '\\i'\n",
      "  df2013_test['text'] = df2013_test['text'].apply(lambda x: x.encode(\"utf-8\").decode(\"unicode-escape\"))\n",
      "C:\\Users\\EANG\\AppData\\Local\\Temp\\ipykernel_14832\\3840874528.py:31: DeprecationWarning: invalid escape sequence '\\('\n",
      "  df2013_test['text'] = df2013_test['text'].apply(lambda x: x.encode(\"utf-8\").decode(\"unicode-escape\"))\n",
      "C:\\Users\\EANG\\AppData\\Local\\Temp\\ipykernel_14832\\3840874528.py:31: DeprecationWarning: invalid escape sequence '\\m'\n",
      "  df2013_test['text'] = df2013_test['text'].apply(lambda x: x.encode(\"utf-8\").decode(\"unicode-escape\"))\n",
      "C:\\Users\\EANG\\AppData\\Local\\Temp\\ipykernel_14832\\3840874528.py:31: DeprecationWarning: invalid escape sequence '\\o'\n",
      "  df2013_test['text'] = df2013_test['text'].apply(lambda x: x.encode(\"utf-8\").decode(\"unicode-escape\"))\n"
     ]
    },
    {
     "data": {
      "text/html": [
       "<div>\n",
       "<style scoped>\n",
       "    .dataframe tbody tr th:only-of-type {\n",
       "        vertical-align: middle;\n",
       "    }\n",
       "\n",
       "    .dataframe tbody tr th {\n",
       "        vertical-align: top;\n",
       "    }\n",
       "\n",
       "    .dataframe thead th {\n",
       "        text-align: right;\n",
       "    }\n",
       "</style>\n",
       "<table border=\"1\" class=\"dataframe\">\n",
       "  <thead>\n",
       "    <tr style=\"text-align: right;\">\n",
       "      <th></th>\n",
       "      <th>sentiment</th>\n",
       "      <th>text</th>\n",
       "    </tr>\n",
       "  </thead>\n",
       "  <tbody>\n",
       "    <tr>\n",
       "      <th>0</th>\n",
       "      <td>negative</td>\n",
       "      <td>dear @Microsoft the newOoffice for Mac is grea...</td>\n",
       "    </tr>\n",
       "    <tr>\n",
       "      <th>1</th>\n",
       "      <td>negative</td>\n",
       "      <td>@Microsoft how about you make a system that do...</td>\n",
       "    </tr>\n",
       "    <tr>\n",
       "      <th>2</th>\n",
       "      <td>negative</td>\n",
       "      <td>I may be ignorant on this issue but... should ...</td>\n",
       "    </tr>\n",
       "    <tr>\n",
       "      <th>3</th>\n",
       "      <td>negative</td>\n",
       "      <td>Thanks to @microsoft, I just may be switching ...</td>\n",
       "    </tr>\n",
       "    <tr>\n",
       "      <th>4</th>\n",
       "      <td>neutral</td>\n",
       "      <td>If I make a game as a #windows10 Universal App...</td>\n",
       "    </tr>\n",
       "    <tr>\n",
       "      <th>...</th>\n",
       "      <td>...</td>\n",
       "      <td>...</td>\n",
       "    </tr>\n",
       "    <tr>\n",
       "      <th>16036</th>\n",
       "      <td>positive</td>\n",
       "      <td>RT @MNFootNg It's monday and Monday Night Foot...</td>\n",
       "    </tr>\n",
       "    <tr>\n",
       "      <th>16037</th>\n",
       "      <td>positive</td>\n",
       "      <td>All I know is the road for that Lomardi start ...</td>\n",
       "    </tr>\n",
       "    <tr>\n",
       "      <th>16038</th>\n",
       "      <td>neutral</td>\n",
       "      <td>All Blue and White fam, we r meeting at Golden...</td>\n",
       "    </tr>\n",
       "    <tr>\n",
       "      <th>16039</th>\n",
       "      <td>positive</td>\n",
       "      <td>@DariusButler28   Have a great game agaist Tam...</td>\n",
       "    </tr>\n",
       "    <tr>\n",
       "      <th>16040</th>\n",
       "      <td>negative</td>\n",
       "      <td>I'm pisseeedddd that I missed Kid Cudi's show ...</td>\n",
       "    </tr>\n",
       "  </tbody>\n",
       "</table>\n",
       "<p>16041 rows × 2 columns</p>\n",
       "</div>"
      ],
      "text/plain": [
       "      sentiment                                               text\n",
       "0      negative  dear @Microsoft the newOoffice for Mac is grea...\n",
       "1      negative  @Microsoft how about you make a system that do...\n",
       "2      negative  I may be ignorant on this issue but... should ...\n",
       "3      negative  Thanks to @microsoft, I just may be switching ...\n",
       "4       neutral  If I make a game as a #windows10 Universal App...\n",
       "...         ...                                                ...\n",
       "16036  positive  RT @MNFootNg It's monday and Monday Night Foot...\n",
       "16037  positive  All I know is the road for that Lomardi start ...\n",
       "16038   neutral  All Blue and White fam, we r meeting at Golden...\n",
       "16039  positive  @DariusButler28   Have a great game agaist Tam...\n",
       "16040  negative  I'm pisseeedddd that I missed Kid Cudi's show ...\n",
       "\n",
       "[16041 rows x 2 columns]"
      ]
     },
     "execution_count": 121,
     "metadata": {},
     "output_type": "execute_result"
    }
   ],
   "source": [
    "# Read txt\n",
    "df2016_train = pd.read_csv('datasets/twitter-2016train-A.txt', sep='\\t', header=None, names=['id', 'sentiment', 'text'])\n",
    "df2016_devtest = pd.read_csv('datasets/twitter-2016devtest-A.txt', sep='\\t', header=None, names=['id', 'sentiment', 'text'])\n",
    "df2016_dev = pd.read_csv('datasets/twitter-2016dev-A.txt', sep='\\t', header=None, names=['id', 'sentiment', 'text'])\n",
    "df2016_test = pd.read_csv('datasets/twitter-2013test-A.txt', sep='\\t', header=None, names=['id', 'sentiment', 'text'])\n",
    "\n",
    "df2015_train = pd.read_csv('datasets/twitter-2015train-A.txt', sep='\\t', header=None, names=['id', 'sentiment', 'text'])\n",
    "df2015_test = pd.read_csv('datasets/twitter-2015test-A.txt', sep='\\t', header=None, names=['id', 'sentiment', 'text'])\n",
    "\n",
    "df2014_sarcasm = pd.read_csv('datasets/twitter-2014sarcasm-A.txt', sep='\\t', header=None, names=['id', 'sentiment', 'text'])\n",
    "df2014_test = pd.read_csv('datasets/twitter-2014test-A.txt', sep='\\t', header=None, names=['id', 'sentiment', 'text'])\n",
    "\n",
    "df2013_train = pd.read_csv('datasets/twitter-2013train-A.txt', sep='\\t', header=None, names=['id', 'sentiment', 'text'])\n",
    "df2013_dev = pd.read_csv('datasets/twitter-2013dev-A.txt', sep='\\t', header=None, names=['id', 'sentiment', 'text'])\n",
    "df2013_test = pd.read_csv('datasets/twitter-2013test-A.txt', sep='\\t', header=None, names=['id', 'sentiment', 'text'])\n",
    "\n",
    "# Decode unicode characters (if any)\n",
    "df2016_train['text'] = df2016_train['text'].apply(lambda x: x.encode(\"utf-8\").decode(\"unicode-escape\"))\n",
    "#df2016_devtest['text'] = df2016_devtest['text'].apply(lambda x: x.encode(\"utf-8\").decode(\"unicode-escape\"))\n",
    "df2016_dev['text'] = df2016_dev['text'].apply(lambda x: x.encode(\"utf-8\").decode(\"unicode-escape\"))\n",
    "df2016_test['text'] = df2016_test['text'].apply(lambda x: x.encode(\"utf-8\").decode(\"unicode-escape\"))\n",
    "\n",
    "df2015_train['text'] = df2015_train['text'].apply(lambda x: x.encode(\"utf-8\").decode(\"unicode-escape\"))\n",
    "df2015_test['text'] = df2015_test['text'].apply(lambda x: x.encode(\"utf-8\").decode(\"unicode-escape\"))\n",
    "\n",
    "df2014_sarcasm['text'] = df2014_sarcasm['text'].apply(lambda x: x.encode(\"utf-8\").decode(\"unicode-escape\"))\n",
    "df2014_test['text'] = df2014_test['text'].apply(lambda x: x.encode(\"utf-8\").decode(\"unicode-escape\"))\n",
    "\n",
    "df2013_train['text'] = df2013_train['text'].apply(lambda x: x.encode(\"utf-8\").decode(\"unicode-escape\"))\n",
    "df2013_dev['text'] = df2013_dev['text'].apply(lambda x: x.encode(\"utf-8\").decode(\"unicode-escape\"))\n",
    "df2013_test['text'] = df2013_test['text'].apply(lambda x: x.encode(\"utf-8\").decode(\"unicode-escape\"))\n",
    "\n",
    "# Concat\n",
    "#df = pd.concat([df2016_train, df2016_dev, df2016_test, df2016_devtest, df2015_train, df2015_test, df2014_sarcasm, df2014_test, df2013_train, df2013_dev, df2013_test], ignore_index=True, axis=0)\n",
    "#df = pd.concat([df2016_train, df2016_dev, df2016_test, df2016_devtest, df2015_train, df2015_test, df2014_test, df2013_train, df2013_dev, df2013_test], ignore_index=True, axis=0)\n",
    "#df = pd.concat([df2016_train, df2016_dev, df2015_train, df2013_train, df2013_dev], ignore_index=True, axis=0)\n",
    "df = pd.concat([df2016_train, df2015_train, df2013_train], ignore_index=True, axis=0)\n",
    "\n",
    "# Drop id column\n",
    "df.drop(columns=['id'], inplace=True)\n",
    "\n",
    "df"
   ]
  },
  {
   "cell_type": "markdown",
   "metadata": {},
   "source": [
    "# Preprocessing"
   ]
  },
  {
   "cell_type": "code",
   "execution_count": 122,
   "metadata": {},
   "outputs": [
    {
     "data": {
      "text/plain": [
       "sentiment\n",
       "neutral     6840\n",
       "positive    6827\n",
       "negative    2374\n",
       "Name: count, dtype: int64"
      ]
     },
     "execution_count": 122,
     "metadata": {},
     "output_type": "execute_result"
    }
   ],
   "source": [
    "# show value_counts for targets for entire dataset\n",
    "df['sentiment'].value_counts()"
   ]
  },
  {
   "cell_type": "code",
   "execution_count": 123,
   "metadata": {},
   "outputs": [
    {
     "data": {
      "text/html": [
       "<div>\n",
       "<style scoped>\n",
       "    .dataframe tbody tr th:only-of-type {\n",
       "        vertical-align: middle;\n",
       "    }\n",
       "\n",
       "    .dataframe tbody tr th {\n",
       "        vertical-align: top;\n",
       "    }\n",
       "\n",
       "    .dataframe thead th {\n",
       "        text-align: right;\n",
       "    }\n",
       "</style>\n",
       "<table border=\"1\" class=\"dataframe\">\n",
       "  <thead>\n",
       "    <tr style=\"text-align: right;\">\n",
       "      <th></th>\n",
       "      <th>sentiment</th>\n",
       "      <th>text</th>\n",
       "    </tr>\n",
       "  </thead>\n",
       "  <tbody>\n",
       "    <tr>\n",
       "      <th>18777</th>\n",
       "      <td>negative</td>\n",
       "      <td>Gossip Girl was pulled on Monday because of Hu...</td>\n",
       "    </tr>\n",
       "    <tr>\n",
       "      <th>18778</th>\n",
       "      <td>negative</td>\n",
       "      <td>I kicked off Type 1 Diabetes Awareness Day wit...</td>\n",
       "    </tr>\n",
       "    <tr>\n",
       "      <th>18779</th>\n",
       "      <td>negative</td>\n",
       "      <td>It’s been in the 50-60s all week. This weekend...</td>\n",
       "    </tr>\n",
       "    <tr>\n",
       "      <th>18780</th>\n",
       "      <td>negative</td>\n",
       "      <td>Can’t even sleep.. All I can think about is ho...</td>\n",
       "    </tr>\n",
       "    <tr>\n",
       "      <th>18781</th>\n",
       "      <td>negative</td>\n",
       "      <td>Just don’t understand TOB thought he would com...</td>\n",
       "    </tr>\n",
       "  </tbody>\n",
       "</table>\n",
       "</div>"
      ],
      "text/plain": [
       "      sentiment                                               text\n",
       "18777  negative  Gossip Girl was pulled on Monday because of Hu...\n",
       "18778  negative  I kicked off Type 1 Diabetes Awareness Day wit...\n",
       "18779  negative  It’s been in the 50-60s all week. This weekend...\n",
       "18780  negative  Can’t even sleep.. All I can think about is ho...\n",
       "18781  negative  Just don’t understand TOB thought he would com..."
      ]
     },
     "execution_count": 123,
     "metadata": {},
     "output_type": "execute_result"
    }
   ],
   "source": [
    "# get negatives and add to dataset\n",
    "df2016_devtest_neg = df2016_devtest[df2016_devtest['sentiment'] == 'negative']\n",
    "df2016_dev_neg = df2016_dev[df2016_dev['sentiment'] == 'negative']\n",
    "df2016_test_neg = df2016_test[df2016_test['sentiment'] == 'negative']\n",
    "df2015_test_neg = df2015_test[df2015_test['sentiment'] == 'negative']\n",
    "df2014_test_neg = df2014_test[df2014_test['sentiment'] == 'negative']\n",
    "df2013_test_neg = df2013_test[df2013_test['sentiment'] == 'negative']\n",
    "df2013_dev_neg = df2013_dev[df2013_dev['sentiment'] == 'negative']\n",
    "\n",
    "df_neg = pd.concat([df2016_devtest_neg, df2016_dev_neg, df2016_test_neg, df2015_test_neg, df2014_test_neg, df2013_test_neg, df2013_dev_neg], ignore_index=True, axis=0)\n",
    "#df_neg = pd.concat([df2016_devtest_neg, df2016_test_neg, df2015_test_neg, df2014_test_neg, df2013_test_neg], ignore_index=True, axis=0)\n",
    "df_neg.drop(columns=['id'], inplace=True)\n",
    "df = pd.concat([df, df_neg], ignore_index=True, axis=0)\n",
    "\n",
    "df.tail()"
   ]
  },
  {
   "cell_type": "code",
   "execution_count": 124,
   "metadata": {},
   "outputs": [
    {
     "data": {
      "text/plain": [
       "sentiment\n",
       "neutral     6840\n",
       "positive    6827\n",
       "negative    5115\n",
       "Name: count, dtype: int64"
      ]
     },
     "execution_count": 124,
     "metadata": {},
     "output_type": "execute_result"
    }
   ],
   "source": [
    "# show value_counts for targets for entire dataset again\n",
    "df['sentiment'].value_counts()"
   ]
  },
  {
   "cell_type": "code",
   "execution_count": 125,
   "metadata": {},
   "outputs": [
    {
     "data": {
      "text/plain": [
       "sentiment\n",
       "negative    1271\n",
       "neutral      553\n",
       "positive     372\n",
       "Name: count, dtype: int64"
      ]
     },
     "execution_count": 125,
     "metadata": {},
     "output_type": "execute_result"
    }
   ],
   "source": [
    "# show value_counts for targets for duplicate rows\n",
    "duplicates = df[df.duplicated([\"sentiment\", \"text\"], keep=False)]\n",
    "duplicates['sentiment'].value_counts()"
   ]
  },
  {
   "cell_type": "code",
   "execution_count": 126,
   "metadata": {},
   "outputs": [
    {
     "data": {
      "text/plain": [
       "6003     \"\"No you may not kick it.\"\"  -Tribe Called Que...\n",
       "7238     \"\"No you may not kick it.\"\"  -Tribe Called Que...\n",
       "18348    #Bills Mario Williams not sure if he'll practi...\n",
       "17222    #Bills Mario Williams not sure if he'll practi...\n",
       "16807    #CNET - Just bought my 1st iPad, iPad3, feelin...\n",
       "17933    #CNET - Just bought my 1st iPad, iPad3, feelin...\n",
       "18238    #HeadiesAll of you famzing live at the #Headie...\n",
       "17112    #HeadiesAll of you famzing live at the #Headie...\n",
       "17055    #InternationalDirectionerDay It's obv. Directi...\n",
       "18181    #InternationalDirectionerDay It's obv. Directi...\n",
       "17187    #QuestionsIHateBeingAsked this is why i stoppe...\n",
       "18313    #QuestionsIHateBeingAsked this is why i stoppe...\n",
       "18095    #Syria #Homs, Baba Amr. [8 Feb 2012]. (IMPORTA...\n",
       "16969    #Syria #Homs, Baba Amr. [8 Feb 2012]. (IMPORTA...\n",
       "17153    #TEAMCAUSE, don't forget Daylight Savings Time...\n",
       "18279    #TEAMCAUSE, don't forget Daylight Savings Time...\n",
       "16782    #fakta on the 8th of Mar 191 Cao Cao attempted...\n",
       "17908    #fakta on the 8th of Mar 191 Cao Cao attempted...\n",
       "17033    #fakta on the 8th of Mar 191 Cao Cao attempted...\n",
       "18159    #fakta on the 8th of Mar 191 Cao Cao attempted...\n",
       "Name: text, dtype: object"
      ]
     },
     "execution_count": 126,
     "metadata": {},
     "output_type": "execute_result"
    }
   ],
   "source": [
    "# verify duplicates\n",
    "neg_dupes = duplicates[duplicates[\"sentiment\"] == \"negative\"]\n",
    "sorted_neg_dupes = neg_dupes[\"text\"].sort_values()\n",
    "sorted_neg_dupes.head(20)"
   ]
  },
  {
   "cell_type": "code",
   "execution_count": 127,
   "metadata": {},
   "outputs": [
    {
     "name": "stdout",
     "output_type": "stream",
     "text": [
      "Num of duplicates before drop:  2196\n",
      "Num of duplicates after drop:  0\n",
      "Rows after drop:  17683 \n",
      "\n",
      "sentiment\n",
      "positive    6641\n",
      "neutral     6563\n",
      "negative    4479\n",
      "Name: count, dtype: int64\n"
     ]
    }
   ],
   "source": [
    "# drop duplicates\n",
    "print(\"Num of duplicates before drop: \", df.duplicated([\"sentiment\", \"text\"], keep=False).sum())\n",
    "df.drop_duplicates(keep='first', inplace=True)\n",
    "df.reset_index(drop=True, inplace=True)\n",
    "print(\"Num of duplicates after drop: \", df.duplicated([\"sentiment\", \"text\"], keep=False).sum())\n",
    "print(\"Rows after drop: \", df.shape[0], \"\\n\")\n",
    "print(df['sentiment'].value_counts())"
   ]
  },
  {
   "cell_type": "code",
   "execution_count": 9,
   "metadata": {},
   "outputs": [],
   "source": [
    "# using nltk (time 0.4s)\n",
    "nlp = NLP(\n",
    "    replace_words=True,             # replaces contractions\n",
    "    remove_stopwords=True,          # removes select stopwords\n",
    "    remove_numbers=False,\n",
    "    lemmatize=True,                 # for lemmatization\n",
    "    lemmatize_method='wordnet'\n",
    ")\n",
    "\n",
    "def preprocess_text(text):\n",
    "    to_lower = text.lower() # make text lowercase\n",
    "    no_link = re.sub('http[^\\s]+', '', to_lower) # remove links (starts with http)\n",
    "    no_contractions = contractions.fix(no_link) # remove contractions by expanding them\n",
    "    no_punctuations = re.sub('\\W+', ' ', no_contractions) # remove punctuations\n",
    "    no_num = re.sub(r'\\b\\d+\\b', ' ', no_punctuations) # remove numbers unless connected to words\n",
    "    no_time = re.sub(r'\\b([a-zA-Z0-9]+)(?:am|pm)\\b', '', no_num) # remove time (e.g. 10pm)\n",
    "    no_space = re.sub('\\s+', ' ', no_time) # remove extra spaces\n",
    "    after_nlp = nlp.process(no_space) # remove stopwords and lemmatize for NLP\n",
    "\n",
    "    return after_nlp"
   ]
  },
  {
   "cell_type": "code",
   "execution_count": 128,
   "metadata": {},
   "outputs": [],
   "source": [
    "# using spacy (time 2m 33.3s)\n",
    "spcy = spacy.load('en_core_web_sm') # load spacy\n",
    "nlp = NLP(\n",
    "    replace_words=True,             # replaces contractions\n",
    "    remove_stopwords=True,          # removes select stopwords\n",
    "    remove_numbers=False,\n",
    "    lemmatize=False,\n",
    ")\n",
    "\n",
    "def preprocess_text(text):\n",
    "    to_lower = text.lower() # make text lowercase\n",
    "    no_link = re.sub('http[^\\s]+', '', to_lower) # remove links (starts with http)\n",
    "    no_contractions = contractions.fix(no_link) # remove contractions by expanding them\n",
    "    doc = spcy(no_contractions) # tokenize\n",
    "\n",
    "    # remove punctuation, numbers, and time-related words\n",
    "    processed_tokens = [\n",
    "        token.lemma_ for token in doc \n",
    "        if not token.is_punct and (\n",
    "            token.is_alpha or token.text.endswith((\"st\", \"nd\", \"rd\", \"th\"))\n",
    "        )\n",
    "    ]\n",
    "    preprocessed_text = \" \".join(processed_tokens) # join the processed tokens to form the preprocessed text\n",
    "\n",
    "    after_nlp = nlp.process(preprocessed_text) # remove stopwords and lemmatize using NLP\n",
    "\n",
    "    return after_nlp"
   ]
  },
  {
   "cell_type": "code",
   "execution_count": 129,
   "metadata": {},
   "outputs": [],
   "source": [
    "# apply function and store result in new column\n",
    "df[\"processed\"] = df[\"text\"].apply(preprocess_text)"
   ]
  },
  {
   "cell_type": "code",
   "execution_count": 130,
   "metadata": {},
   "outputs": [
    {
     "data": {
      "text/plain": [
       "'It’s been in the 50-60s all week. This weekend its gone be back in the 70s then on Monday its droppin back down to the 50s. fuck ATL weather'"
      ]
     },
     "execution_count": 130,
     "metadata": {},
     "output_type": "execute_result"
    }
   ],
   "source": [
    "# view original text\n",
    "df['text'][17680]"
   ]
  },
  {
   "cell_type": "code",
   "execution_count": 131,
   "metadata": {},
   "outputs": [
    {
     "data": {
      "text/plain": [
       "'in week weekend its go back in then monday its droppin back fuck atl weather'"
      ]
     },
     "execution_count": 131,
     "metadata": {},
     "output_type": "execute_result"
    }
   ],
   "source": [
    "# view preprocessed text\n",
    "df['processed'][17680]"
   ]
  },
  {
   "cell_type": "code",
   "execution_count": 132,
   "metadata": {},
   "outputs": [],
   "source": [
    "# split df to features and targets\n",
    "df_features = df[\"processed\"]\n",
    "df_target = df[\"sentiment\"]"
   ]
  },
  {
   "cell_type": "code",
   "execution_count": 133,
   "metadata": {},
   "outputs": [
    {
     "data": {
      "text/plain": [
       "17678    gossip girl pull monday because hurricane sand...\n",
       "17679    kick off type diabetes awareness day with high...\n",
       "17680    in week weekend its go back in then monday its...\n",
       "17681    can not even sleep can think about how fuck jo...\n",
       "17682    just not understand tob think would come out a...\n",
       "Name: processed, dtype: object"
      ]
     },
     "execution_count": 133,
     "metadata": {},
     "output_type": "execute_result"
    }
   ],
   "source": [
    "# view features\n",
    "df_features.tail()"
   ]
  },
  {
   "cell_type": "code",
   "execution_count": 134,
   "metadata": {},
   "outputs": [
    {
     "data": {
      "text/plain": [
       "0    negative\n",
       "1    negative\n",
       "2    negative\n",
       "3    negative\n",
       "4     neutral\n",
       "Name: sentiment, dtype: object"
      ]
     },
     "execution_count": 134,
     "metadata": {},
     "output_type": "execute_result"
    }
   ],
   "source": [
    "# view target\n",
    "df_target.head()"
   ]
  },
  {
   "cell_type": "markdown",
   "metadata": {},
   "source": [
    "# Basic Model"
   ]
  },
  {
   "cell_type": "code",
   "execution_count": 163,
   "metadata": {},
   "outputs": [
    {
     "name": "stdout",
     "output_type": "stream",
     "text": [
      "(14146,) (3537,)\n"
     ]
    }
   ],
   "source": [
    "# split df to train and test\n",
    "x_train, x_test, y_train, y_test = train_test_split(\n",
    "    df_features, df_target, test_size=0.2, random_state=77\n",
    ")\n",
    "\n",
    "print(x_train.shape, x_test.shape)"
   ]
  },
  {
   "cell_type": "code",
   "execution_count": 164,
   "metadata": {},
   "outputs": [
    {
     "data": {
      "text/html": [
       "<div>\n",
       "<style scoped>\n",
       "    .dataframe tbody tr th:only-of-type {\n",
       "        vertical-align: middle;\n",
       "    }\n",
       "\n",
       "    .dataframe tbody tr th {\n",
       "        vertical-align: top;\n",
       "    }\n",
       "\n",
       "    .dataframe thead th {\n",
       "        text-align: right;\n",
       "    }\n",
       "</style>\n",
       "<table border=\"1\" class=\"dataframe\">\n",
       "  <thead>\n",
       "    <tr style=\"text-align: right;\">\n",
       "      <th></th>\n",
       "      <th>10th</th>\n",
       "      <th>11th</th>\n",
       "      <th>12th</th>\n",
       "      <th>13th</th>\n",
       "      <th>14th</th>\n",
       "      <th>15th</th>\n",
       "      <th>16th</th>\n",
       "      <th>17th</th>\n",
       "      <th>18th</th>\n",
       "      <th>19th</th>\n",
       "      <th>...</th>\n",
       "      <th>young</th>\n",
       "      <th>your</th>\n",
       "      <th>yourself</th>\n",
       "      <th>youtube</th>\n",
       "      <th>yr</th>\n",
       "      <th>yrs</th>\n",
       "      <th>yushin</th>\n",
       "      <th>zimmerman</th>\n",
       "      <th>zombie</th>\n",
       "      <th>zone</th>\n",
       "    </tr>\n",
       "  </thead>\n",
       "  <tbody>\n",
       "    <tr>\n",
       "      <th>0</th>\n",
       "      <td>0.0</td>\n",
       "      <td>0.0</td>\n",
       "      <td>0.0</td>\n",
       "      <td>0.0</td>\n",
       "      <td>0.0</td>\n",
       "      <td>0.0</td>\n",
       "      <td>0.0</td>\n",
       "      <td>0.0</td>\n",
       "      <td>0.0</td>\n",
       "      <td>0.0</td>\n",
       "      <td>...</td>\n",
       "      <td>0.0</td>\n",
       "      <td>0.0</td>\n",
       "      <td>0.0</td>\n",
       "      <td>0.0</td>\n",
       "      <td>0.0</td>\n",
       "      <td>0.0</td>\n",
       "      <td>0.0</td>\n",
       "      <td>0.0</td>\n",
       "      <td>0.0</td>\n",
       "      <td>0.0</td>\n",
       "    </tr>\n",
       "    <tr>\n",
       "      <th>1</th>\n",
       "      <td>0.0</td>\n",
       "      <td>0.0</td>\n",
       "      <td>0.0</td>\n",
       "      <td>0.0</td>\n",
       "      <td>0.0</td>\n",
       "      <td>0.0</td>\n",
       "      <td>0.0</td>\n",
       "      <td>0.0</td>\n",
       "      <td>0.0</td>\n",
       "      <td>0.0</td>\n",
       "      <td>...</td>\n",
       "      <td>0.0</td>\n",
       "      <td>0.0</td>\n",
       "      <td>0.0</td>\n",
       "      <td>0.0</td>\n",
       "      <td>0.0</td>\n",
       "      <td>0.0</td>\n",
       "      <td>0.0</td>\n",
       "      <td>0.0</td>\n",
       "      <td>0.0</td>\n",
       "      <td>0.0</td>\n",
       "    </tr>\n",
       "    <tr>\n",
       "      <th>2</th>\n",
       "      <td>0.0</td>\n",
       "      <td>0.0</td>\n",
       "      <td>0.0</td>\n",
       "      <td>0.0</td>\n",
       "      <td>0.0</td>\n",
       "      <td>0.0</td>\n",
       "      <td>0.0</td>\n",
       "      <td>0.0</td>\n",
       "      <td>0.0</td>\n",
       "      <td>0.0</td>\n",
       "      <td>...</td>\n",
       "      <td>0.0</td>\n",
       "      <td>0.0</td>\n",
       "      <td>0.0</td>\n",
       "      <td>0.0</td>\n",
       "      <td>0.0</td>\n",
       "      <td>0.0</td>\n",
       "      <td>0.0</td>\n",
       "      <td>0.0</td>\n",
       "      <td>0.0</td>\n",
       "      <td>0.0</td>\n",
       "    </tr>\n",
       "    <tr>\n",
       "      <th>3</th>\n",
       "      <td>0.0</td>\n",
       "      <td>0.0</td>\n",
       "      <td>0.0</td>\n",
       "      <td>0.0</td>\n",
       "      <td>0.0</td>\n",
       "      <td>0.0</td>\n",
       "      <td>0.0</td>\n",
       "      <td>0.0</td>\n",
       "      <td>0.0</td>\n",
       "      <td>0.0</td>\n",
       "      <td>...</td>\n",
       "      <td>0.0</td>\n",
       "      <td>0.0</td>\n",
       "      <td>0.0</td>\n",
       "      <td>0.0</td>\n",
       "      <td>0.0</td>\n",
       "      <td>0.0</td>\n",
       "      <td>0.0</td>\n",
       "      <td>0.0</td>\n",
       "      <td>0.0</td>\n",
       "      <td>0.0</td>\n",
       "    </tr>\n",
       "    <tr>\n",
       "      <th>4</th>\n",
       "      <td>0.0</td>\n",
       "      <td>0.0</td>\n",
       "      <td>0.0</td>\n",
       "      <td>0.0</td>\n",
       "      <td>0.0</td>\n",
       "      <td>0.0</td>\n",
       "      <td>0.0</td>\n",
       "      <td>0.0</td>\n",
       "      <td>0.0</td>\n",
       "      <td>0.0</td>\n",
       "      <td>...</td>\n",
       "      <td>0.0</td>\n",
       "      <td>0.0</td>\n",
       "      <td>0.0</td>\n",
       "      <td>0.0</td>\n",
       "      <td>0.0</td>\n",
       "      <td>0.0</td>\n",
       "      <td>0.0</td>\n",
       "      <td>0.0</td>\n",
       "      <td>0.0</td>\n",
       "      <td>0.0</td>\n",
       "    </tr>\n",
       "  </tbody>\n",
       "</table>\n",
       "<p>5 rows × 1992 columns</p>\n",
       "</div>"
      ],
      "text/plain": [
       "   10th  11th  12th  13th  14th  15th  16th  17th  18th  19th  ...  young  \\\n",
       "0   0.0   0.0   0.0   0.0   0.0   0.0   0.0   0.0   0.0   0.0  ...    0.0   \n",
       "1   0.0   0.0   0.0   0.0   0.0   0.0   0.0   0.0   0.0   0.0  ...    0.0   \n",
       "2   0.0   0.0   0.0   0.0   0.0   0.0   0.0   0.0   0.0   0.0  ...    0.0   \n",
       "3   0.0   0.0   0.0   0.0   0.0   0.0   0.0   0.0   0.0   0.0  ...    0.0   \n",
       "4   0.0   0.0   0.0   0.0   0.0   0.0   0.0   0.0   0.0   0.0  ...    0.0   \n",
       "\n",
       "   your  yourself  youtube   yr  yrs  yushin  zimmerman  zombie  zone  \n",
       "0   0.0       0.0      0.0  0.0  0.0     0.0        0.0     0.0   0.0  \n",
       "1   0.0       0.0      0.0  0.0  0.0     0.0        0.0     0.0   0.0  \n",
       "2   0.0       0.0      0.0  0.0  0.0     0.0        0.0     0.0   0.0  \n",
       "3   0.0       0.0      0.0  0.0  0.0     0.0        0.0     0.0   0.0  \n",
       "4   0.0       0.0      0.0  0.0  0.0     0.0        0.0     0.0   0.0  \n",
       "\n",
       "[5 rows x 1992 columns]"
      ]
     },
     "execution_count": 164,
     "metadata": {},
     "output_type": "execute_result"
    }
   ],
   "source": [
    "# vectorize the preprocessed text\n",
    "vectorizer = TfidfVectorizer(   # TFIDF = checks how important a word is\n",
    "    #max_features=2000,          # max_features = maximum number of preserved words\n",
    "    min_df=12,                  # min_df = minimum times a word should appear to be saved, if not met do not keep\n",
    "    max_df=0.5,                 # max_df = maximum times a word can appear to be saved, if exceeds do not keep, float for percentage\n",
    "    #sublinear_tf=True           # sublinear_tf = used to help scale down the importance of terms that occur frequently\n",
    ") \n",
    "\n",
    "x_train = vectorizer.fit_transform(x_train)\n",
    "x_test = vectorizer.transform(x_test)\n",
    "\n",
    "vector_df = pd.DataFrame(x_train.toarray(), columns=vectorizer.get_feature_names_out())\n",
    "\n",
    "vector_df.head()"
   ]
  },
  {
   "cell_type": "code",
   "execution_count": 165,
   "metadata": {},
   "outputs": [
    {
     "name": "stdout",
     "output_type": "stream",
     "text": [
      "Percentage:\n",
      " sentiment\n",
      "positive    37.83\n",
      "neutral     36.87\n",
      "negative    25.31\n",
      "Name: count, dtype: float64\n",
      "\n",
      "Counts:\n",
      " sentiment\n",
      "positive    5351\n",
      "neutral     5215\n",
      "negative    3580\n",
      "Name: count, dtype: int64\n",
      "\n",
      "Rows: 14146\n"
     ]
    }
   ],
   "source": [
    "# view balance of train set targets\n",
    "print(\"Percentage:\\n\", y_train.value_counts().divide(y_train.shape[0], axis=0).multiply(100, axis=0).round(2))\n",
    "print(\"\\nCounts:\\n\", y_train.value_counts())\n",
    "print(\"\\nRows:\", y_train.shape[0])"
   ]
  },
  {
   "cell_type": "code",
   "execution_count": 166,
   "metadata": {},
   "outputs": [
    {
     "name": "stderr",
     "output_type": "stream",
     "text": [
      "c:\\Training\\Project\\senti-env\\lib\\site-packages\\imblearn\\under_sampling\\_prototype_selection\\_nearmiss.py:203: UserWarning: The number of the samples to be selected is larger than the number of samples available. The balancing ratio cannot be ensure and all samples will be returned.\n",
      "  warnings.warn(\n"
     ]
    },
    {
     "name": "stdout",
     "output_type": "stream",
     "text": [
      "sentiment\n",
      "negative    3580\n",
      "positive    3580\n",
      "neutral     3534\n",
      "Name: count, dtype: int64\n",
      "\n",
      "Rows: 10694\n"
     ]
    }
   ],
   "source": [
    "# undersampling\n",
    "undersample = NearMiss(n_neighbors=5, version=3)\n",
    "\n",
    "x_train, y_train = undersample.fit_resample(x_train, y_train)\n",
    "\n",
    "print(y_train.value_counts())\n",
    "print(\"\\nRows:\", y_train.shape[0])"
   ]
  },
  {
   "cell_type": "code",
   "execution_count": 161,
   "metadata": {},
   "outputs": [
    {
     "name": "stdout",
     "output_type": "stream",
     "text": [
      "Accuracy: 0.6468836853471358\n",
      "Precision: 0.6470487829144391\n",
      "Recall: 0.6468836853471358\n",
      "F1 Score: 0.6452501917534349\n"
     ]
    }
   ],
   "source": [
    "# train model\n",
    "\n",
    "model = SVC(random_state=77)   \n",
    "# Time: 23.9s\n",
    "# Accuracy: 0.6468836853471358\n",
    "# Precision: 0.6470487829144391\n",
    "# Recall: 0.6468836853471358\n",
    "# F1 Score: 0.6452501917534349\n",
    "\n",
    "# fit the model\n",
    "model.fit(x_train, y_train)\n",
    "\n",
    "# predict\n",
    "predictions = model.predict(x_test)\n",
    "\n",
    "# check metric scores\n",
    "print(\"Accuracy:\", balanced_accuracy_score(y_test, predictions))\n",
    "print(\"Precision:\", precision_score(y_test, predictions, average=\"macro\"))\n",
    "print(\"Recall:\", recall_score(y_test, predictions, average=\"macro\"))\n",
    "print(\"F1 Score:\", f1_score(y_test, predictions, average=\"macro\"))"
   ]
  },
  {
   "cell_type": "code",
   "execution_count": 19,
   "metadata": {},
   "outputs": [],
   "source": [
    "# other models tested\n",
    "\n",
    "# create arrays for NB\n",
    "#x_train_arr = x_train.toarray()\n",
    "#x_test_arr = x_test.toarray()\n",
    "\n",
    "#model = GaussianNB()\n",
    "# Time: 1.4s\n",
    "# Accuracy: 0.520398455884649\n",
    "# Precision: 0.5052635960277055\n",
    "# Recall: 0.520398455884649\n",
    "# F1 Score: 0.4904032195135731\n",
    "\n",
    "#model = MultinomialNB()\n",
    "# Time: 0.2s\n",
    "# Accuracy: 0.6157874810119358\n",
    "# Precision: 0.6058093470479066\n",
    "# Recall: 0.6157874810119358\n",
    "# F1 Score: 0.6084338406999361\n",
    "\n",
    "#model = ComplementNB()\n",
    "# Time: 0.2s\n",
    "# Accuracy: 0.6138711696239828\n",
    "# Precision: 0.6002568821057218\n",
    "# Recall: 0.6138711696239828\n",
    "# F1 Score: 0.6010822036557764\n",
    "\n",
    "#model = LinearSVC(random_state=77, dual='auto')\n",
    "# Time: 0.2s\n",
    "# Accuracy: 0.6179522766192419\n",
    "# Precision: 0.6120904794753274\n",
    "# Recall: 0.6179522766192419\n",
    "# F1 Score: 0.6143261778044388\n",
    "\n",
    "#model = SGDClassifier(random_state=77)\n",
    "# Time: 0.2s\n",
    "# Accuracy: 0.6356390954043296\n",
    "# Precision: 0.6271946912645893\n",
    "# Recall: 0.6356390954043296\n",
    "# F1 Score: 0.6296765508794562\n",
    "\n",
    "#model = DecisionTreeClassifier(random_state=77)\n",
    "# Time: 6.5s\n",
    "# Accuracy: 0.526596990408624\n",
    "# Precision: 0.520354781618298\n",
    "# Recall: 0.526596990408624\n",
    "# F1 Score: 0.5207425972469898\n",
    "\n",
    "#model = RandomForestClassifier(random_state=77)\n",
    "# Time: 27.1s\n",
    "# Accuracy: 0.610193212633456\n",
    "# Precision: 0.6073167103118654\n",
    "# Recall: 0.610193212633456\n",
    "# F1 Score: 0.6045639655836464\n",
    "\n",
    "#model = LogisticRegression(random_state=77, max_iter=x_train.shape[0])\n",
    "# Time: 0.5s\n",
    "# Accuracy: 0.6261574692250776\n",
    "# Precision: 0.621260497614312\n",
    "# Recall: 0.6261574692250776\n",
    "# F1 Score: 0.6228231009151246\n"
   ]
  },
  {
   "cell_type": "code",
   "execution_count": 140,
   "metadata": {},
   "outputs": [
    {
     "name": "stdout",
     "output_type": "stream",
     "text": [
      "              precision    recall  f1-score   support\n",
      "\n",
      "    negative       0.62      0.67      0.65       899\n",
      "     neutral       0.60      0.65      0.63      1348\n",
      "    positive       0.71      0.62      0.66      1290\n",
      "\n",
      "    accuracy                           0.64      3537\n",
      "   macro avg       0.65      0.65      0.65      3537\n",
      "weighted avg       0.65      0.64      0.64      3537\n",
      "\n"
     ]
    }
   ],
   "source": [
    "report = classification_report(y_test, predictions)\n",
    "print(report)"
   ]
  },
  {
   "cell_type": "code",
   "execution_count": 141,
   "metadata": {},
   "outputs": [
    {
     "data": {
      "text/plain": [
       "array([[605, 209,  85],\n",
       "       [236, 876, 236],\n",
       "       [129, 364, 797]], dtype=int64)"
      ]
     },
     "execution_count": 141,
     "metadata": {},
     "output_type": "execute_result"
    }
   ],
   "source": [
    "# generate confusion matrix\n",
    "labels = np.unique(predictions)\n",
    "cm = confusion_matrix(y_test, predictions, labels=labels)\n",
    "cm"
   ]
  },
  {
   "cell_type": "code",
   "execution_count": 142,
   "metadata": {},
   "outputs": [
    {
     "data": {
      "image/png": "[encoded data removed]",
      "text/plain": [
       "<Figure size 640x480 with 2 Axes>"
      ]
     },
     "metadata": {},
     "output_type": "display_data"
    }
   ],
   "source": [
    "# show confusion matrix in a heatmap\n",
    "sns.heatmap(cm,\n",
    "            annot=True,\n",
    "            fmt='d',\n",
    "            xticklabels=labels,\n",
    "            yticklabels=labels,\n",
    "            cmap='viridis')\n",
    "\n",
    "plt.ylabel('Predicted', fontsize=12)\n",
    "plt.xlabel('Actual', fontsize=12)\n",
    "plt.title('Confusion Matrix', fontsize=14)\n",
    "plt.show()"
   ]
  },
  {
   "cell_type": "code",
   "execution_count": 143,
   "metadata": {},
   "outputs": [
    {
     "name": "stdout",
     "output_type": "stream",
     "text": [
      "sentiment\n",
      "neutral     1348\n",
      "positive    1290\n",
      "negative     899\n",
      "Name: count, dtype: int64\n",
      "\n",
      "Rows: 3537\n"
     ]
    }
   ],
   "source": [
    "# view balance of test set targets\n",
    "print(y_test.value_counts())\n",
    "print(\"\\nRows:\", y_test.shape[0])"
   ]
  },
  {
   "cell_type": "code",
   "execution_count": 144,
   "metadata": {},
   "outputs": [
    {
     "data": {
      "image/png": "[encoded data removed]",
      "text/plain": [
       "<Figure size 640x480 with 3 Axes>"
      ]
     },
     "metadata": {},
     "output_type": "display_data"
    }
   ],
   "source": [
    "# calculate percentage of correctly identified sentiments per sentiment\n",
    "percent_correct = [np.sum(cm[i, i]) / np.sum(cm[i, :]) for i in range(len(cm))]\n",
    "percent_incorrect = [1 - percent_correct[i] for i in range(len(cm))]\n",
    "\n",
    "# show percentages in pie charts\n",
    "fig, axs = plt.subplots(1, len(cm))\n",
    "for i in range(len(cm)):\n",
    "    axs[i].pie([percent_correct[i], percent_incorrect[i]], labels=[\"Correct\", \"Incorrect\"], autopct=\"%1.2f%%\")\n",
    "    axs[i].set_title(labels[i])\n",
    "plt.show()"
   ]
  },
  {
   "cell_type": "markdown",
   "metadata": {},
   "source": [
    "# Hyperparameter Tuning"
   ]
  },
  {
   "cell_type": "code",
   "execution_count": 131,
   "metadata": {},
   "outputs": [
    {
     "name": "stdout",
     "output_type": "stream",
     "text": [
      "Fitting 3 folds for each of 2880 candidates, totalling 8640 fits\n"
     ]
    },
    {
     "name": "stderr",
     "output_type": "stream",
     "text": [
      "c:\\Training\\Project\\django-ml-proj-nlp\\senti-env\\lib\\site-packages\\sklearn\\model_selection\\_search.py:979: UserWarning: One or more of the test scores are non-finite: [       nan        nan        nan ... 0.54894239 0.51674612 0.5222686 ]\n",
      "  warnings.warn(\n"
     ]
    },
    {
     "name": "stdout",
     "output_type": "stream",
     "text": [
      "Best Params:  {'C': 1, 'break_ties': True, 'coef0': 1, 'decision_function_shape': 'ovr', 'degree': 4, 'gamma': 0.1, 'kernel': 'poly'}\n"
     ]
    }
   ],
   "source": [
    "# GridSearchCV\n",
    "\n",
    "# provide parameter dictionary\n",
    "parameters = {\n",
    "    \"C\": [1, 2, 3, 4, 5],                               # regularization parameter, higher = more sensitive to misclassifications\n",
    "    \"kernel\": [\"linear\", \"rbf\", \"poly\", \"sigmoid\"],     # kernel type\n",
    "    \"gamma\": [\"scale\", 0.1, 1.0, 1.5],                  # kernel coefficient, only important if rbf/poly/sigmoid, higher = more sensitive to local variations in the data\n",
    "    \"degree\": [3, 4, 5],                                # only important if poly\n",
    "    \"coef0\": [0, 0.5, 1],                               # only important if poly/sigmoid\n",
    "    \"decision_function_shape\": [\"ovo\", \"ovr\"],          # one-vs-one or one-vs-rest\n",
    "    \"break_ties\": [True, False],                        # only important if ovr\n",
    "}\n",
    "\n",
    "# create blank model\n",
    "model_tuner = SVC(random_state=77)\n",
    "\n",
    "# perform grid search on f1_macro metric\n",
    "model_tuner = GridSearchCV(\n",
    "    model_tuner,\n",
    "    parameters,\n",
    "    cv=3,\n",
    "    scoring='f1_macro',\n",
    "    n_jobs=-1,\n",
    "    verbose=1\n",
    ")\n",
    "\n",
    "# fit the model\n",
    "tune_results = model_tuner.fit(x_train, y_train)\n",
    "\n",
    "# get the best hyperparameters\n",
    "print(\"Best Params: \", tune_results.best_params_)"
   ]
  },
  {
   "cell_type": "code",
   "execution_count": 26,
   "metadata": {},
   "outputs": [],
   "source": [
    "# Time: 134m 13.4s\n",
    "# Best Params:  {'C': 1, 'coef0': 0, 'decision_function_shape': 'ovo', 'degree': 3, 'gamma': 'scale', 'kernel': 'rbf'}\n",
    "\n",
    "# Parameter Grid: \n",
    "#    \"C\": [1, 5, 10],                                    # regularization parameter, higher = more sensitive to misclassifications\n",
    "#    \"kernel\": [\"linear\", \"rbf\", \"poly\", \"sigmoid\"],     # kernel type\n",
    "#    \"gamma\": [\"scale\", \"auto\", 0.0, 0.5],               # kernel coefficient, only important if rbf/poly/sigmoid, higher = more sensitive to local variations in the data\n",
    "#    \"degree\": [3, 4, 5],                                # only important if poly\n",
    "#    \"coef0\": [0, 0.5, 1],                               # only important if poly/sigmoid\n",
    "#    \"decision_function_shape\": [\"ovo\", \"ovr\"]           # one-vs-one or one-vs-rest"
   ]
  },
  {
   "cell_type": "code",
   "execution_count": null,
   "metadata": {},
   "outputs": [],
   "source": [
    "# Time: 377m 59.4s\n",
    "# Best Params: Best Params:  {'C': 1, 'break_ties': True, 'coef0': 1, 'decision_function_shape': 'ovr', 'degree': 4, 'gamma': 0.1, 'kernel': 'poly'}\n",
    "\n",
    "# Parameter Grid:\n",
    "#    \"C\": [1, 2, 3, 4, 5],                               # regularization parameter, higher = more sensitive to misclassifications\n",
    "#    \"kernel\": [\"linear\", \"rbf\", \"poly\", \"sigmoid\"],     # kernel type\n",
    "#    \"gamma\": [\"scale\", 0.1, 1.0, 1.5],                  # kernel coefficient, only important if rbf/poly/sigmoid, higher = more sensitive to local variations in the data\n",
    "#    \"degree\": [3, 4, 5],                                # only important if poly\n",
    "#    \"coef0\": [0, 0.5, 1],                               # only important if poly/sigmoid\n",
    "#    \"decision_function_shape\": [\"ovo\", \"ovr\"],          # one-vs-one or one-vs-rest\n",
    "#    \"break_ties\": [True, False],                        # only important if ovr"
   ]
  },
  {
   "cell_type": "code",
   "execution_count": 130,
   "metadata": {},
   "outputs": [
    {
     "name": "stdout",
     "output_type": "stream",
     "text": [
      "Fitting 3 folds for each of 1000 candidates, totalling 3000 fits\n"
     ]
    },
    {
     "name": "stderr",
     "output_type": "stream",
     "text": [
      "c:\\Training\\Project\\django-ml-proj-nlp\\senti-env\\lib\\site-packages\\sklearn\\model_selection\\_search.py:979: UserWarning: One or more of the test scores are non-finite: [       nan 0.53344196 0.54251765 0.54434053 0.50745556        nan\n",
      "        nan        nan 0.54625546        nan        nan 0.55232941\n",
      " 0.54218155 0.52719049        nan 0.52651773 0.54916273        nan\n",
      " 0.53352713 0.54294054 0.16659673 0.26564802 0.54284658        nan\n",
      " 0.54404425 0.54012568 0.52918128 0.54565678 0.54422104 0.54401596\n",
      " 0.16659673 0.50745556 0.54517865        nan        nan 0.53620069\n",
      "        nan        nan 0.5062039  0.54460447 0.52365723 0.50745556\n",
      " 0.53568974 0.55351534 0.51495454 0.55313875 0.5522039  0.52928141\n",
      " 0.54457361 0.53566041 0.5479103  0.5543659  0.54073217 0.54460447\n",
      "        nan 0.54265688 0.16659673 0.55222763        nan 0.52619901\n",
      " 0.54754941        nan 0.55174864 0.53988029        nan        nan\n",
      " 0.53057423 0.48462672 0.5179681  0.53742937        nan 0.54200257\n",
      "        nan 0.55089035 0.51429774 0.5276689  0.54987198 0.50813369\n",
      " 0.53325184        nan 0.53043787 0.5062039  0.54501148        nan\n",
      " 0.55348869 0.53167834 0.54802367 0.5402705  0.5062039  0.54681989\n",
      " 0.5518958  0.55281674        nan 0.53984713        nan 0.54681812\n",
      " 0.52538764 0.53703245 0.50745556 0.54423201        nan 0.52941866\n",
      " 0.55313875 0.52619901 0.55397906 0.54629113 0.53845174 0.53566041\n",
      "        nan        nan 0.52928141 0.53986846 0.51429774 0.16659673\n",
      "        nan 0.49513899 0.5062039  0.53281311        nan 0.54460447\n",
      " 0.54840348        nan 0.52048795 0.54461041 0.50958663 0.45617772\n",
      " 0.54241056 0.5525962  0.5453934  0.16659673        nan 0.5336404\n",
      " 0.54511179 0.54573101 0.54558424        nan 0.53117671        nan\n",
      " 0.51368219        nan        nan 0.5062039  0.51368219 0.53315297\n",
      " 0.55151609 0.53757253 0.51969774 0.53488281        nan 0.52999438\n",
      " 0.16659673 0.54253908 0.54273982 0.54349136        nan 0.51464297\n",
      " 0.5452923  0.51120159 0.52270059 0.16659673 0.55341489        nan\n",
      " 0.54460447 0.5394052  0.50813369        nan        nan 0.51429774\n",
      " 0.53368779 0.53648165 0.54863173 0.54303442        nan 0.54574796\n",
      " 0.5191468  0.52928141 0.54400105 0.51495454 0.54962355 0.54460447\n",
      " 0.5276689  0.5453679  0.54424712 0.55361465 0.539161   0.5364055\n",
      "        nan 0.53324419 0.54019634 0.16659673 0.50745556 0.50918254\n",
      " 0.55367425 0.53851509 0.5062039  0.52365723 0.54641982        nan\n",
      " 0.55404862        nan 0.54294054        nan 0.54137334 0.53118057\n",
      " 0.54694862 0.54236844 0.5452923  0.54162071 0.5062039  0.54867769\n",
      " 0.5062039  0.53409253        nan 0.53352713 0.54395125 0.54377284\n",
      " 0.53876541        nan        nan 0.55269806 0.55063047 0.53889608\n",
      "        nan 0.5418153         nan        nan        nan 0.53179393\n",
      " 0.16659673 0.54649795 0.54217311 0.53376902        nan 0.54506334\n",
      " 0.54480031        nan 0.55281674 0.5189187         nan 0.52807748\n",
      " 0.53829409        nan 0.5426659  0.54774996 0.51120159 0.5385062\n",
      "        nan 0.53034272        nan        nan        nan 0.54460447\n",
      " 0.53530608        nan        nan 0.54866021 0.51429774        nan\n",
      " 0.16659673 0.53813868 0.54460447 0.53742733 0.54134982 0.54764283\n",
      " 0.52169571 0.52804663 0.53693619 0.54456306        nan 0.50813369\n",
      " 0.53889608 0.54701903 0.16659673 0.52501969 0.52703168        nan\n",
      " 0.5062039  0.54806191 0.54545088        nan        nan 0.54015936\n",
      " 0.54329443        nan 0.54176744 0.1689651         nan 0.54382041\n",
      "        nan 0.54601981 0.52550188        nan 0.55353166 0.50958663\n",
      " 0.54546209 0.16659673 0.48456486        nan 0.53389385 0.5281458\n",
      " 0.16659673        nan 0.16659673 0.54155746 0.54616695 0.52365723\n",
      "        nan 0.53676035 0.54701903 0.55299251        nan 0.54011059\n",
      " 0.55035287        nan 0.54349136 0.53479112 0.54706943        nan\n",
      " 0.5191468  0.54013799 0.52862519 0.51584575        nan 0.54284096\n",
      "        nan        nan        nan 0.54172122 0.54683897 0.50116529\n",
      "        nan        nan 0.54294484        nan 0.54169908 0.54656505\n",
      " 0.55499171 0.54701903 0.50745556 0.54788857 0.54542159 0.53895221\n",
      " 0.50810666        nan 0.55341489        nan        nan        nan\n",
      "        nan 0.55106143 0.48097549        nan 0.54807484 0.48686933\n",
      " 0.54279855        nan 0.54012568 0.55089035 0.54734242 0.52365723\n",
      " 0.52550188        nan 0.55261147        nan 0.53839653 0.51368219\n",
      " 0.53848944        nan 0.50813369 0.5376866         nan 0.54692302\n",
      " 0.50958663 0.51495454 0.50918254 0.55183265 0.51368219        nan\n",
      " 0.50813369        nan 0.54518766        nan 0.50958663 0.53060871\n",
      " 0.54568555        nan        nan        nan 0.54644473        nan\n",
      " 0.52360422 0.54398147 0.54277054 0.52455718 0.54766984 0.53991593\n",
      " 0.50935719 0.53664379 0.53152552 0.55114049 0.5252626         nan\n",
      " 0.54169908        nan 0.54694683 0.52365723 0.53865541 0.5331219\n",
      " 0.54460447 0.53957787 0.54006396 0.53960119 0.50813369 0.16659673\n",
      " 0.50877621        nan 0.54237468        nan        nan 0.54129325\n",
      "        nan        nan        nan 0.52550188 0.53566041 0.5471024\n",
      " 0.51495454 0.54412651 0.54319418        nan 0.5191468  0.5189187\n",
      " 0.50958663        nan 0.53178037 0.52278219 0.5510266  0.51013383\n",
      " 0.51495454        nan 0.53801093 0.54613735 0.54172122 0.51762189\n",
      " 0.53172507 0.52807748        nan        nan 0.51403356        nan\n",
      " 0.51654014 0.54511179 0.53566041 0.51495454        nan 0.54811335\n",
      " 0.52550188 0.52005071        nan 0.5433614         nan 0.5239135\n",
      "        nan 0.54724102        nan        nan 0.51821526 0.54166162\n",
      " 0.52756903 0.50888573 0.50745556 0.53920788 0.54857927 0.51059195\n",
      "        nan 0.54132815        nan        nan        nan 0.52342404\n",
      " 0.54734872 0.53566041 0.53389084 0.39375161        nan 0.53566041\n",
      " 0.30272395 0.53508358 0.53742733 0.54126349 0.54977347        nan\n",
      " 0.54902592 0.53455558 0.54709435        nan        nan 0.51770678\n",
      " 0.54531173 0.54625979 0.53004161 0.5052373  0.54329443 0.54329534\n",
      " 0.54597157 0.50935429 0.19379949        nan 0.50813369 0.54176744\n",
      " 0.52214767 0.51120159 0.5433614  0.53639685 0.53695003 0.53917724\n",
      " 0.5062039         nan 0.54650135 0.53815213 0.54285126        nan\n",
      " 0.5461692  0.16659673 0.51522119 0.5426651  0.54898317 0.54162071\n",
      " 0.55404862 0.51495454 0.52456279 0.5062039         nan        nan\n",
      " 0.53570742 0.54522598 0.54701903 0.50745556 0.53475902 0.527226\n",
      " 0.54635167 0.51429774 0.52051613 0.54701903 0.55068253 0.5499538\n",
      " 0.52804663 0.51368219 0.54460447        nan 0.53414754 0.54799504\n",
      " 0.54830406        nan        nan 0.51368219        nan 0.54176744\n",
      " 0.16659673 0.54925779        nan 0.16659673 0.53742733 0.5370769\n",
      " 0.53235979 0.55313875 0.52948059 0.52550188 0.53864407 0.51117012\n",
      "        nan        nan 0.5017671  0.54206336 0.5488248         nan\n",
      " 0.5331941  0.53537605 0.54691674 0.54446723 0.16659673 0.55067665\n",
      " 0.52922671 0.53152546 0.16659673        nan 0.5518958  0.51368219\n",
      " 0.30920087        nan 0.54701903        nan 0.54272344 0.54701903\n",
      " 0.54566456 0.54486041        nan 0.5543659  0.53694612 0.51117012\n",
      " 0.5191468  0.53741742 0.54460447 0.52515549        nan 0.54422729\n",
      " 0.52443914 0.54764283        nan        nan 0.54918063 0.53566041\n",
      "        nan 0.50918254 0.52900903 0.55066621 0.54122672 0.53894655\n",
      "        nan 0.5488248  0.52719049 0.5062039         nan 0.52807748\n",
      " 0.54460447 0.51495454        nan 0.52870527        nan 0.54701903\n",
      " 0.53936543        nan 0.53566041 0.5458211  0.5392637  0.52434308\n",
      "        nan 0.53508358        nan 0.54139031        nan 0.54543581\n",
      " 0.54004738 0.5259689  0.5191468  0.50958663 0.5189187  0.54482625\n",
      "        nan 0.39492453 0.52051613        nan 0.50745556 0.5062039\n",
      "        nan 0.43370319 0.41987879        nan        nan 0.54720949\n",
      " 0.53673218 0.31496126        nan 0.54714779        nan 0.53152552\n",
      " 0.5191468  0.53281311 0.42532617 0.54701903 0.5187144  0.55141306\n",
      "        nan 0.48749305 0.53447592        nan        nan 0.51368219\n",
      " 0.54461041 0.54511179 0.54492904 0.52660635 0.52928141 0.50745556\n",
      " 0.54701903        nan 0.54251081        nan 0.52365723        nan\n",
      " 0.16659673 0.53566041 0.50958663 0.53566041 0.52550188 0.54881611\n",
      " 0.51495454 0.5189187  0.5543659  0.50958663 0.42453797 0.53389005\n",
      " 0.54641502 0.54248578 0.50813369 0.54322697 0.5525962         nan\n",
      " 0.5110594         nan 0.5498669  0.54176744 0.55222763 0.53030025\n",
      " 0.53566041 0.52538764 0.55161642 0.54225076 0.51237796        nan\n",
      " 0.54245991 0.50918254 0.54951901 0.55161642        nan 0.53481768\n",
      " 0.5189187  0.53783727 0.50918254        nan 0.541783          nan\n",
      "        nan 0.5500737         nan 0.52999438 0.53354103        nan\n",
      "        nan        nan 0.16659673 0.53957787 0.5062039  0.54263835\n",
      " 0.53957787 0.54701903 0.54246913 0.54750598        nan 0.54155746\n",
      " 0.5189187         nan 0.52600173 0.50918254 0.5203364         nan\n",
      "        nan 0.54566782 0.51047317 0.52923068 0.54392624 0.52950321\n",
      " 0.5191468  0.53592788        nan 0.52550188 0.54119943 0.52712952\n",
      " 0.5359093  0.5515959  0.54460447 0.54511668 0.52288317 0.52798094\n",
      " 0.52550188 0.54027387        nan 0.49146321 0.53152552        nan\n",
      " 0.53281311 0.54159471 0.52988318 0.54005617 0.54531603 0.55052379\n",
      " 0.52365723 0.53778568        nan 0.54850692 0.54572198 0.53991369\n",
      " 0.52499398 0.55068253 0.54501148 0.53368779 0.53742906 0.52928141\n",
      "        nan        nan        nan 0.54385135 0.53506139 0.53354103\n",
      " 0.54482625 0.53575011 0.41432311 0.53373655        nan        nan\n",
      " 0.52550188 0.5518958  0.53839653 0.54594326 0.5479656  0.54361802\n",
      " 0.54457102        nan 0.5289693  0.51447814 0.54694759        nan\n",
      " 0.54171326 0.54177642 0.51463037        nan 0.51495454 0.53104656\n",
      " 0.54479638 0.50918254 0.53034272 0.43188925        nan 0.53281311\n",
      " 0.54241056        nan 0.54349136 0.54417377 0.52600173 0.54653116\n",
      "        nan 0.54836781 0.52553942        nan 0.54265688 0.55221293\n",
      " 0.50958663        nan 0.5191468  0.16659673 0.54460447 0.51495454\n",
      " 0.53566041 0.55049254        nan 0.50918254        nan 0.50813369\n",
      " 0.52928141 0.50745556 0.51117012 0.53354103 0.54101266 0.16659673\n",
      "        nan 0.50813369 0.53065745        nan 0.52932972 0.54440304\n",
      " 0.54701903 0.54210878 0.5062039  0.50958663 0.51429774        nan\n",
      "        nan 0.54159471        nan 0.53235979        nan        nan\n",
      " 0.54268916 0.54766984        nan        nan        nan 0.50918254\n",
      " 0.54512316 0.50918254        nan        nan 0.55161642 0.53742937\n",
      " 0.55353166 0.53566041        nan 0.54654224 0.55111482 0.53970518\n",
      "        nan 0.54460447        nan        nan 0.16659673        nan\n",
      " 0.5189187  0.55025667 0.55161642 0.50918254 0.55174864 0.53427377\n",
      " 0.53104188        nan        nan 0.54506334        nan        nan\n",
      " 0.16659673 0.53844371 0.54474439        nan 0.51643514 0.52365723\n",
      " 0.52540653 0.54251656        nan        nan 0.51576262 0.51429774\n",
      "        nan 0.54701903 0.53568974        nan 0.53815429 0.53566041\n",
      "        nan 0.50745556 0.53088268 0.54649479 0.16659673 0.539161\n",
      " 0.54606476        nan 0.53209173 0.52807748        nan        nan\n",
      " 0.50813369 0.54616705 0.53573421 0.54472195 0.54207644 0.53757103\n",
      " 0.51189603 0.51892609        nan 0.52807748 0.52550188 0.5393042\n",
      " 0.5452923  0.52648543 0.53111311 0.53507055        nan 0.51495454\n",
      " 0.55281674 0.5189187  0.53958848        nan 0.51495454        nan\n",
      " 0.51429774 0.53342907 0.51000066 0.52614251 0.16659673 0.53622214\n",
      " 0.54789088 0.54250631 0.54911668 0.54481234 0.54608133 0.52719049\n",
      " 0.53317144        nan 0.54372681 0.52550188 0.52970103        nan\n",
      " 0.53742733 0.54673867 0.52365723 0.27506924 0.51609288 0.5451981\n",
      " 0.55141306        nan 0.53427377 0.53680965]\n",
      "  warnings.warn(\n"
     ]
    },
    {
     "name": "stdout",
     "output_type": "stream",
     "text": [
      "Best Params:  {'kernel': 'rbf', 'gamma': 0.4, 'degree': 4, 'decision_function_shape': 'ovr', 'coef0': 0.5, 'break_ties': True, 'C': 1}\n"
     ]
    }
   ],
   "source": [
    "# RandomizedSearchCV\n",
    "\n",
    "# provide parameter dictionary\n",
    "parameters = {\n",
    "    \"C\": np.arange(1, 11, 1),                           # (10) regularization parameter, higher = more sensitive to misclassifications\n",
    "    \"kernel\": [\"linear\", \"rbf\", \"poly\", \"sigmoid\"],     # kernel type\n",
    "    \"gamma\": np.arange(0.1, 1.1, 0.1),                  # (10) kernel coefficient, only important if rbf/poly/sigmoid, higher = more sensitive to local variations in the data\n",
    "    \"degree\": np.arange(3, 8, 1),                       # (5) only important if poly\n",
    "    \"coef0\": np.linspace(0, 1, num=5),                  # (5) only important if poly/sigmoid\n",
    "    \"decision_function_shape\": [\"ovo\", \"ovr\"],          # one-vs-one or one-vs-rest\n",
    "    \"break_ties\": [True, False],                        # only important if ovr\n",
    "}\n",
    "\n",
    "# create blank model\n",
    "model_tuner = SVC(random_state=77)\n",
    "\n",
    "# perform grid search on f1_macro metric\n",
    "model_tuner = RandomizedSearchCV(\n",
    "    model_tuner,\n",
    "    parameters,\n",
    "    cv=3,\n",
    "    scoring='f1_macro',\n",
    "    n_jobs=-1,\n",
    "    verbose=1,\n",
    "    n_iter=1000,\n",
    "    random_state=77\n",
    ")\n",
    "\n",
    "# fit the model\n",
    "tune_results = model_tuner.fit(x_train, y_train)\n",
    "\n",
    "# get the best hyperparameters\n",
    "print(\"Best Params: \", tune_results.best_params_)"
   ]
  },
  {
   "cell_type": "code",
   "execution_count": null,
   "metadata": {},
   "outputs": [],
   "source": [
    "# Time: 158m 5.8s\n",
    "# Best Params:  {'kernel': 'rbf', 'gamma': 0.4, 'degree': 4, 'decision_function_shape': 'ovr', 'coef0': 0.5, 'break_ties': True, 'C': 1}\n",
    "\n",
    "# Parameter Grid:\n",
    "#    \"C\": np.arange(1, 11, 1),                           # (10) regularization parameter, higher = more sensitive to misclassifications\n",
    "#    \"kernel\": [\"linear\", \"rbf\", \"poly\", \"sigmoid\"],     # kernel type\n",
    "#    \"gamma\": np.arange(0.1, 1.1, 0.1),                  # (10) kernel coefficient, only important if rbf/poly/sigmoid, higher = more sensitive to local variations in the data\n",
    "#    \"degree\": np.arange(3, 8, 1),                       # (5) only important if poly\n",
    "#    \"coef0\": np.linspace(0, 1, num=5),                  # (5) only important if poly/sigmoid\n",
    "#    \"decision_function_shape\": [\"ovo\", \"ovr\"],          # one-vs-one or one-vs-rest\n",
    "#    \"break_ties\": [True, False],                        # only important if ovr"
   ]
  },
  {
   "cell_type": "code",
   "execution_count": 167,
   "metadata": {},
   "outputs": [
    {
     "name": "stdout",
     "output_type": "stream",
     "text": [
      "Accuracy: 0.6472772538439702\n",
      "Precision: 0.6481394465392367\n",
      "Recall: 0.6472772538439702\n",
      "F1 Score: 0.6462198331227585\n"
     ]
    }
   ],
   "source": [
    "# create new model with best hyperparameters\n",
    "tuned_model = SVC(random_state=77, probability=True,\n",
    "    C=1, decision_function_shape='ovr', gamma=1.0, kernel='rbf', break_ties=True\n",
    ")\n",
    "\n",
    "# fit the tuned model\n",
    "tuned_model.fit(x_train, y_train)\n",
    "\n",
    "# predict\n",
    "predictions = tuned_model.predict(x_test)\n",
    "\n",
    "# check metric scores\n",
    "print(\"Accuracy:\", balanced_accuracy_score(y_test, predictions))\n",
    "print(\"Precision:\", precision_score(y_test, predictions, average=\"macro\"))\n",
    "print(\"Recall:\", recall_score(y_test, predictions, average=\"macro\"))\n",
    "print(\"F1 Score:\", f1_score(y_test, predictions, average=\"macro\"))"
   ]
  },
  {
   "cell_type": "code",
   "execution_count": 40,
   "metadata": {},
   "outputs": [],
   "source": [
    "# SCORE TO BEAT:\n",
    "# Accuracy: 0.6468836853471358\n",
    "# Precision: 0.6470487829144391\n",
    "# Recall: 0.6468836853471358\n",
    "# F1 Score: 0.6452501917534349\n",
    "\n",
    "# RESULTING SCORE:\n",
    "# Params: C=1, decision_function_shape='ovr', gamma=1.0, kernel='rbf', break_ties=True\n",
    "# Time: 1m 39.1s\n",
    "# Accuracy: 0.6472772538439702\n",
    "# Precision: 0.6481394465392367\n",
    "# Recall: 0.6472772538439702\n",
    "# F1 Score: 0.6462198331227585"
   ]
  },
  {
   "cell_type": "code",
   "execution_count": null,
   "metadata": {},
   "outputs": [],
   "source": [
    "# other results\n",
    "\n",
    "# [Same]\n",
    "# Params: C=1, decision_function_shape='ovo', gamma=1.0, kernel='rbf'\n",
    "# Time: 1m 28.5s\n",
    "# Accuracy: 0.6468836853471358\n",
    "# Precision: 0.6470487829144391\n",
    "# Recall: 0.6468836853471358\n",
    "# F1 Score: 0.6452501917534349\n",
    "\n",
    "# [Lower]\n",
    "# Params: C=1, decision_function_shape='ovr', gamma=0.4, kernel='rbf', break_ties=True\n",
    "# Time: 21.1s\n",
    "# Accuracy: 0.6382130155991367\n",
    "# Precision: 0.6423001868571392\n",
    "# Recall: 0.6382130155991367\n",
    "# F1 Score: 0.6374188850856412\n",
    "\n",
    "# [Lower]\n",
    "# Params: C=1, decision_function_shape='ovr', gamma=0.1, kernel='poly', break_ties=True, coef0=1, degree=4\n",
    "# Time: \n",
    "# Accuracy: 0.6306163506666769\n",
    "# Precision: 0.6342607239068521\n",
    "# Recall: 0.6306163506666769\n",
    "# F1 Score: 0.6299178559203749"
   ]
  },
  {
   "cell_type": "code",
   "execution_count": 168,
   "metadata": {},
   "outputs": [
    {
     "name": "stdout",
     "output_type": "stream",
     "text": [
      "              precision    recall  f1-score   support\n",
      "\n",
      "    negative       0.63      0.67      0.65       899\n",
      "     neutral       0.60      0.65      0.63      1348\n",
      "    positive       0.71      0.62      0.66      1290\n",
      "\n",
      "    accuracy                           0.64      3537\n",
      "   macro avg       0.65      0.65      0.65      3537\n",
      "weighted avg       0.65      0.64      0.65      3537\n",
      "\n"
     ]
    }
   ],
   "source": [
    "report = classification_report(y_test, predictions)\n",
    "print(report)"
   ]
  },
  {
   "cell_type": "code",
   "execution_count": 169,
   "metadata": {},
   "outputs": [
    {
     "data": {
      "text/plain": [
       "array([[602, 211,  86],\n",
       "       [225, 880, 243],\n",
       "       [126, 365, 799]], dtype=int64)"
      ]
     },
     "execution_count": 169,
     "metadata": {},
     "output_type": "execute_result"
    }
   ],
   "source": [
    "# generate confusion matrix\n",
    "labels = np.unique(predictions)\n",
    "cm = confusion_matrix(y_test, predictions, labels=labels)\n",
    "cm"
   ]
  },
  {
   "cell_type": "code",
   "execution_count": 170,
   "metadata": {},
   "outputs": [
    {
     "data": {
      "image/png": "[encoded data removed]",
      "text/plain": [
       "<Figure size 640x480 with 2 Axes>"
      ]
     },
     "metadata": {},
     "output_type": "display_data"
    }
   ],
   "source": [
    "# show confusion matrix in a heatmap\n",
    "sns.heatmap(cm,\n",
    "            annot=True,\n",
    "            fmt='d',\n",
    "            xticklabels=labels,\n",
    "            yticklabels=labels,\n",
    "            cmap='viridis')\n",
    "\n",
    "plt.ylabel('Predicted', fontsize=12)\n",
    "plt.xlabel('Actual', fontsize=12)\n",
    "plt.title('Confusion Matrix', fontsize=14)\n",
    "plt.show()"
   ]
  },
  {
   "cell_type": "code",
   "execution_count": 171,
   "metadata": {},
   "outputs": [
    {
     "data": {
      "image/png": "[encoded data removed]",
      "text/plain": [
       "<Figure size 640x480 with 3 Axes>"
      ]
     },
     "metadata": {},
     "output_type": "display_data"
    }
   ],
   "source": [
    "# calculate percentage of correctly identified sentiments per sentiment\n",
    "percent_correct = [np.sum(cm[i, i]) / np.sum(cm[i, :]) for i in range(len(cm))]\n",
    "percent_incorrect = [1 - percent_correct[i] for i in range(len(cm))]\n",
    "\n",
    "# show percentages in pie charts\n",
    "fig, axs = plt.subplots(1, len(cm))\n",
    "for i in range(len(cm)):\n",
    "    axs[i].pie([percent_correct[i], percent_incorrect[i]], labels=[\"Correct\", \"Incorrect\"], autopct=\"%1.2f%%\")\n",
    "    axs[i].set_title(labels[i])\n",
    "plt.show()"
   ]
  },
  {
   "cell_type": "markdown",
   "metadata": {},
   "source": [
    "# Saving the Model"
   ]
  },
  {
   "cell_type": "code",
   "execution_count": 172,
   "metadata": {},
   "outputs": [
    {
     "data": {
      "text/plain": [
       "['models/vectorizer.save']"
      ]
     },
     "execution_count": 172,
     "metadata": {},
     "output_type": "execute_result"
    }
   ],
   "source": [
    "# save model\n",
    "model_filename = \"models/sentiment_clf.joblib\"\n",
    "joblib.dump(tuned_model, model_filename)\n",
    "\n",
    "# save preprocessing function\n",
    "func_filename = \"models/preprocess_text.joblib\"\n",
    "joblib.dump(preprocess_text, func_filename)\n",
    "\n",
    "# save vectorizer\n",
    "vectorizer_filename = \"models/vectorizer.save\"\n",
    "joblib.dump(vectorizer, vectorizer_filename)"
   ]
  },
  {
   "cell_type": "code",
   "execution_count": 185,
   "metadata": {},
   "outputs": [
    {
     "name": "stdout",
     "output_type": "stream",
     "text": [
      "Input: It's neither good nor bad.\n",
      "Preprocessed: neither good nor bad\n",
      "\n",
      "Prediction: positive\n",
      "\n",
      "Probabilities:\n",
      "negative: 44.08%\n",
      "neutral: 1.62%\n",
      "positive: 54.30%\n"
     ]
    }
   ],
   "source": [
    "# test\n",
    "\n",
    "# --- taken from twitter-2013test-A.txt ---\n",
    "# [correct] actual: positive; predicted: positive\n",
    "#sample = \"Show your LOVE for your local field & it might win an award!  Gallagher Park #Bedlington current 4th in National Award http://t.co/WeiMDtQt\"\n",
    "# [correct] actual: neutral; predicted: neutral\n",
    "#sample = \"Kim Hyung Jun - Football Team the 2nd A Match at YeongDeungPo-gu DaeRimDong [12.10.27] Credit : tlxhah #6 http://t.co/u7mPTl0X\"\n",
    "# [correct] actual: negative; predicted: negative\n",
    "#sample = \"I got that drank I mix that lean ..I throw the money up and then I walk on green ...Kirko Bangz got a hit and I was shitting on him at 1st\"\n",
    "\n",
    "# --- taken from twitter-2014test-A.txt ---\n",
    "# [correct] actual: positive; predicted: positive\n",
    "#sample = \"Omigod you guys I get to see HOLY MOTORS tomorrow.\"\n",
    "# [correct] actual: negative; predicted: negative\n",
    "#sample = \"OMIGOD worst moment when you realise that its the last day of the holidays, school starts tomorrow and you STILL haven't done your homework!\"\n",
    "# [correct] actual: neutral; predicted: neutral\n",
    "#sample = \"We're in hostile territory with these WNY Flash fans. 2nd half of overtime about to begin...Red Stars kicking off.\"\n",
    "\n",
    "# --- random test cases ---\n",
    "# [wrong] actual: negative; predicted: positive\n",
    "#sample = \"I'm not happy!!!\"\n",
    "# [wrong] actual: positive; predicted: negative\n",
    "#sample = \"I'm not sad!!!\"\n",
    "# [wrong] actual: neutral; predicted: negative\n",
    "#sample = \"I'm neither happy nor sad!\"\n",
    "# [wrong] actual: neutral; predicted: positive\n",
    "sample = \"It's neither good nor bad.\"\n",
    "\n",
    "print(\"Input:\", sample)\n",
    "\n",
    "sample = preprocess_text(sample) # preprocess\n",
    "print(\"Preprocessed:\", sample)\n",
    "\n",
    "sample = vectorizer.transform([sample]) # vectorize\n",
    "\n",
    "prediction = tuned_model.predict(sample)[0] # predict\n",
    "print(\"\\nPrediction:\", prediction)\n",
    "\n",
    "proba = tuned_model.predict_proba(sample) # show probabilities\n",
    "print(\"\\nProbabilities:\")\n",
    "for label, percentage in zip(labels, proba[0]):\n",
    "    print(f\"{label}: {percentage * 100:.2f}%\")\n"
   ]
  }
 ],
 "metadata": {
  "kernelspec": {
   "display_name": "Python 3",
   "language": "python",
   "name": "python3"
  },
  "language_info": {
   "codemirror_mode": {
    "name": "ipython",
    "version": 3
   },
   "file_extension": ".py",
   "mimetype": "text/x-python",
   "name": "python",
   "nbconvert_exporter": "python",
   "pygments_lexer": "ipython3",
   "version": "3.9.13"
  },
  "orig_nbformat": 4
 },
 "nbformat": 4,
 "nbformat_minor": 2
}
