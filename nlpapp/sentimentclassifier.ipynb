{
 "cells": [
  {
   "cell_type": "markdown",
   "metadata": {},
   "source": [
    "# Setting Up"
   ]
  },
  {
   "cell_type": "code",
   "execution_count": 346,
   "metadata": {},
   "outputs": [],
   "source": [
    "import pandas as pd\n",
    "import re\n",
    "import numpy as np\n",
    "\n",
    "import matplotlib.pyplot as plt\n",
    "import seaborn as sns\n",
    "\n",
    "import contractions\n",
    "from nlppreprocess import NLP\n",
    "\n",
    "from sklearn.feature_extraction.text import TfidfVectorizer\n",
    "from imblearn.under_sampling import NearMiss\n",
    "\n",
    "from sklearn.model_selection import train_test_split\n",
    "from sklearn.metrics import f1_score, balanced_accuracy_score, precision_score, recall_score, confusion_matrix\n",
    "from sklearn.naive_bayes import GaussianNB, MultinomialNB, ComplementNB\n",
    "from sklearn.svm import SVC, LinearSVC\n",
    "from sklearn.linear_model import SGDClassifier\n",
    "from sklearn.tree import DecisionTreeClassifier\n",
    "from sklearn.ensemble import RandomForestClassifier\n",
    "from sklearn.linear_model import LogisticRegression\n",
    "\n",
    "from sklearn.model_selection import GridSearchCV"
   ]
  },
  {
   "cell_type": "code",
   "execution_count": 323,
   "metadata": {},
   "outputs": [
    {
     "name": "stderr",
     "output_type": "stream",
     "text": [
      "C:\\Users\\EANG\\AppData\\Local\\Temp\\ipykernel_16512\\2525603754.py:18: DeprecationWarning: invalid escape sequence '\\m'\n",
      "  df2016_train['text'] = df2016_train['text'].apply(lambda x: x.encode(\"utf-8\").decode(\"unicode-escape\"))\n",
      "C:\\Users\\EANG\\AppData\\Local\\Temp\\ipykernel_16512\\2525603754.py:21: DeprecationWarning: invalid escape sequence '\\ '\n",
      "  df2016_test['text'] = df2016_test['text'].apply(lambda x: x.encode(\"utf-8\").decode(\"unicode-escape\"))\n",
      "C:\\Users\\EANG\\AppData\\Local\\Temp\\ipykernel_16512\\2525603754.py:21: DeprecationWarning: invalid escape sequence '\\i'\n",
      "  df2016_test['text'] = df2016_test['text'].apply(lambda x: x.encode(\"utf-8\").decode(\"unicode-escape\"))\n",
      "C:\\Users\\EANG\\AppData\\Local\\Temp\\ipykernel_16512\\2525603754.py:21: DeprecationWarning: invalid escape sequence '\\('\n",
      "  df2016_test['text'] = df2016_test['text'].apply(lambda x: x.encode(\"utf-8\").decode(\"unicode-escape\"))\n",
      "C:\\Users\\EANG\\AppData\\Local\\Temp\\ipykernel_16512\\2525603754.py:21: DeprecationWarning: invalid escape sequence '\\m'\n",
      "  df2016_test['text'] = df2016_test['text'].apply(lambda x: x.encode(\"utf-8\").decode(\"unicode-escape\"))\n",
      "C:\\Users\\EANG\\AppData\\Local\\Temp\\ipykernel_16512\\2525603754.py:21: DeprecationWarning: invalid escape sequence '\\o'\n",
      "  df2016_test['text'] = df2016_test['text'].apply(lambda x: x.encode(\"utf-8\").decode(\"unicode-escape\"))\n",
      "C:\\Users\\EANG\\AppData\\Local\\Temp\\ipykernel_16512\\2525603754.py:24: DeprecationWarning: invalid escape sequence '\\o'\n",
      "  df2015_test['text'] = df2015_test['text'].apply(lambda x: x.encode(\"utf-8\").decode(\"unicode-escape\"))\n",
      "C:\\Users\\EANG\\AppData\\Local\\Temp\\ipykernel_16512\\2525603754.py:27: DeprecationWarning: invalid escape sequence '\\('\n",
      "  df2014_test['text'] = df2014_test['text'].apply(lambda x: x.encode(\"utf-8\").decode(\"unicode-escape\"))\n",
      "C:\\Users\\EANG\\AppData\\Local\\Temp\\ipykernel_16512\\2525603754.py:29: DeprecationWarning: invalid escape sequence '\\m'\n",
      "  df2013_train['text'] = df2013_train['text'].apply(lambda x: x.encode(\"utf-8\").decode(\"unicode-escape\"))\n",
      "C:\\Users\\EANG\\AppData\\Local\\Temp\\ipykernel_16512\\2525603754.py:29: DeprecationWarning: invalid escape sequence '\\_'\n",
      "  df2013_train['text'] = df2013_train['text'].apply(lambda x: x.encode(\"utf-8\").decode(\"unicode-escape\"))\n",
      "C:\\Users\\EANG\\AppData\\Local\\Temp\\ipykernel_16512\\2525603754.py:29: DeprecationWarning: invalid escape sequence '\\/'\n",
      "  df2013_train['text'] = df2013_train['text'].apply(lambda x: x.encode(\"utf-8\").decode(\"unicode-escape\"))\n",
      "C:\\Users\\EANG\\AppData\\Local\\Temp\\ipykernel_16512\\2525603754.py:29: DeprecationWarning: invalid escape sequence '\\ '\n",
      "  df2013_train['text'] = df2013_train['text'].apply(lambda x: x.encode(\"utf-8\").decode(\"unicode-escape\"))\n",
      "C:\\Users\\EANG\\AppData\\Local\\Temp\\ipykernel_16512\\2525603754.py:30: DeprecationWarning: invalid escape sequence '\\ '\n",
      "  df2013_dev['text'] = df2013_dev['text'].apply(lambda x: x.encode(\"utf-8\").decode(\"unicode-escape\"))\n",
      "C:\\Users\\EANG\\AppData\\Local\\Temp\\ipykernel_16512\\2525603754.py:30: DeprecationWarning: invalid escape sequence '\\m'\n",
      "  df2013_dev['text'] = df2013_dev['text'].apply(lambda x: x.encode(\"utf-8\").decode(\"unicode-escape\"))\n",
      "C:\\Users\\EANG\\AppData\\Local\\Temp\\ipykernel_16512\\2525603754.py:31: DeprecationWarning: invalid escape sequence '\\ '\n",
      "  df2013_test['text'] = df2013_test['text'].apply(lambda x: x.encode(\"utf-8\").decode(\"unicode-escape\"))\n",
      "C:\\Users\\EANG\\AppData\\Local\\Temp\\ipykernel_16512\\2525603754.py:31: DeprecationWarning: invalid escape sequence '\\i'\n",
      "  df2013_test['text'] = df2013_test['text'].apply(lambda x: x.encode(\"utf-8\").decode(\"unicode-escape\"))\n",
      "C:\\Users\\EANG\\AppData\\Local\\Temp\\ipykernel_16512\\2525603754.py:31: DeprecationWarning: invalid escape sequence '\\('\n",
      "  df2013_test['text'] = df2013_test['text'].apply(lambda x: x.encode(\"utf-8\").decode(\"unicode-escape\"))\n",
      "C:\\Users\\EANG\\AppData\\Local\\Temp\\ipykernel_16512\\2525603754.py:31: DeprecationWarning: invalid escape sequence '\\m'\n",
      "  df2013_test['text'] = df2013_test['text'].apply(lambda x: x.encode(\"utf-8\").decode(\"unicode-escape\"))\n",
      "C:\\Users\\EANG\\AppData\\Local\\Temp\\ipykernel_16512\\2525603754.py:31: DeprecationWarning: invalid escape sequence '\\o'\n",
      "  df2013_test['text'] = df2013_test['text'].apply(lambda x: x.encode(\"utf-8\").decode(\"unicode-escape\"))\n"
     ]
    },
    {
     "data": {
      "text/html": [
       "<div>\n",
       "<style scoped>\n",
       "    .dataframe tbody tr th:only-of-type {\n",
       "        vertical-align: middle;\n",
       "    }\n",
       "\n",
       "    .dataframe tbody tr th {\n",
       "        vertical-align: top;\n",
       "    }\n",
       "\n",
       "    .dataframe thead th {\n",
       "        text-align: right;\n",
       "    }\n",
       "</style>\n",
       "<table border=\"1\" class=\"dataframe\">\n",
       "  <thead>\n",
       "    <tr style=\"text-align: right;\">\n",
       "      <th></th>\n",
       "      <th>sentiment</th>\n",
       "      <th>text</th>\n",
       "    </tr>\n",
       "  </thead>\n",
       "  <tbody>\n",
       "    <tr>\n",
       "      <th>0</th>\n",
       "      <td>negative</td>\n",
       "      <td>dear @Microsoft the newOoffice for Mac is grea...</td>\n",
       "    </tr>\n",
       "    <tr>\n",
       "      <th>1</th>\n",
       "      <td>negative</td>\n",
       "      <td>@Microsoft how about you make a system that do...</td>\n",
       "    </tr>\n",
       "    <tr>\n",
       "      <th>2</th>\n",
       "      <td>negative</td>\n",
       "      <td>I may be ignorant on this issue but... should ...</td>\n",
       "    </tr>\n",
       "    <tr>\n",
       "      <th>3</th>\n",
       "      <td>negative</td>\n",
       "      <td>Thanks to @microsoft, I just may be switching ...</td>\n",
       "    </tr>\n",
       "    <tr>\n",
       "      <th>4</th>\n",
       "      <td>neutral</td>\n",
       "      <td>If I make a game as a #windows10 Universal App...</td>\n",
       "    </tr>\n",
       "    <tr>\n",
       "      <th>...</th>\n",
       "      <td>...</td>\n",
       "      <td>...</td>\n",
       "    </tr>\n",
       "    <tr>\n",
       "      <th>32993</th>\n",
       "      <td>negative</td>\n",
       "      <td>Khaleda Zia's present India visit may have a b...</td>\n",
       "    </tr>\n",
       "    <tr>\n",
       "      <th>32994</th>\n",
       "      <td>neutral</td>\n",
       "      <td>FYI, golf fans: @jameslepp will join Moj on We...</td>\n",
       "    </tr>\n",
       "    <tr>\n",
       "      <th>32995</th>\n",
       "      <td>negative</td>\n",
       "      <td>@__Aniko you think mr.Calle let practice with ...</td>\n",
       "    </tr>\n",
       "    <tr>\n",
       "      <th>32996</th>\n",
       "      <td>positive</td>\n",
       "      <td>Don't hide under your desk! It's just a salsa ...</td>\n",
       "    </tr>\n",
       "    <tr>\n",
       "      <th>32997</th>\n",
       "      <td>neutral</td>\n",
       "      <td>Saturday flashmob on the music of The Runaways...</td>\n",
       "    </tr>\n",
       "  </tbody>\n",
       "</table>\n",
       "<p>32998 rows × 2 columns</p>\n",
       "</div>"
      ],
      "text/plain": [
       "      sentiment                                               text\n",
       "0      negative  dear @Microsoft the newOoffice for Mac is grea...\n",
       "1      negative  @Microsoft how about you make a system that do...\n",
       "2      negative  I may be ignorant on this issue but... should ...\n",
       "3      negative  Thanks to @microsoft, I just may be switching ...\n",
       "4       neutral  If I make a game as a #windows10 Universal App...\n",
       "...         ...                                                ...\n",
       "32993  negative  Khaleda Zia's present India visit may have a b...\n",
       "32994   neutral  FYI, golf fans: @jameslepp will join Moj on We...\n",
       "32995  negative  @__Aniko you think mr.Calle let practice with ...\n",
       "32996  positive  Don't hide under your desk! It's just a salsa ...\n",
       "32997   neutral  Saturday flashmob on the music of The Runaways...\n",
       "\n",
       "[32998 rows x 2 columns]"
      ]
     },
     "execution_count": 323,
     "metadata": {},
     "output_type": "execute_result"
    }
   ],
   "source": [
    "# Read txt\n",
    "df2016_train = pd.read_csv('datasets/twitter-2016train-A.txt', sep='\\t', header=None, names=['id', 'sentiment', 'text'])\n",
    "df2016_devtest = pd.read_csv('datasets/twitter-2016devtest-A.txt', sep='\\t', header=None, names=['id', 'sentiment', 'text'])\n",
    "df2016_dev = pd.read_csv('datasets/twitter-2016dev-A.txt', sep='\\t', header=None, names=['id', 'sentiment', 'text'])\n",
    "df2016_test = pd.read_csv('datasets/twitter-2013test-A.txt', sep='\\t', header=None, names=['id', 'sentiment', 'text'])\n",
    "\n",
    "df2015_train = pd.read_csv('datasets/twitter-2015train-A.txt', sep='\\t', header=None, names=['id', 'sentiment', 'text'])\n",
    "df2015_test = pd.read_csv('datasets/twitter-2015test-A.txt', sep='\\t', header=None, names=['id', 'sentiment', 'text'])\n",
    "\n",
    "df2014_sarcasm = pd.read_csv('datasets/twitter-2014sarcasm-A.txt', sep='\\t', header=None, names=['id', 'sentiment', 'text'])\n",
    "df2014_test = pd.read_csv('datasets/twitter-2014test-A.txt', sep='\\t', header=None, names=['id', 'sentiment', 'text'])\n",
    "\n",
    "df2013_train = pd.read_csv('datasets/twitter-2013train-A.txt', sep='\\t', header=None, names=['id', 'sentiment', 'text'])\n",
    "df2013_dev = pd.read_csv('datasets/twitter-2013dev-A.txt', sep='\\t', header=None, names=['id', 'sentiment', 'text'])\n",
    "df2013_test = pd.read_csv('datasets/twitter-2013test-A.txt', sep='\\t', header=None, names=['id', 'sentiment', 'text'])\n",
    "\n",
    "# Decode unicode characters (if any)\n",
    "df2016_train['text'] = df2016_train['text'].apply(lambda x: x.encode(\"utf-8\").decode(\"unicode-escape\"))\n",
    "#df2016_devtest['text'] = df2016_devtest['text'].apply(lambda x: x.encode(\"utf-8\").decode(\"unicode-escape\"))\n",
    "df2016_dev['text'] = df2016_dev['text'].apply(lambda x: x.encode(\"utf-8\").decode(\"unicode-escape\"))\n",
    "df2016_test['text'] = df2016_test['text'].apply(lambda x: x.encode(\"utf-8\").decode(\"unicode-escape\"))\n",
    "\n",
    "df2015_train['text'] = df2015_train['text'].apply(lambda x: x.encode(\"utf-8\").decode(\"unicode-escape\"))\n",
    "df2015_test['text'] = df2015_test['text'].apply(lambda x: x.encode(\"utf-8\").decode(\"unicode-escape\"))\n",
    "\n",
    "df2014_sarcasm['text'] = df2014_sarcasm['text'].apply(lambda x: x.encode(\"utf-8\").decode(\"unicode-escape\"))\n",
    "df2014_test['text'] = df2014_test['text'].apply(lambda x: x.encode(\"utf-8\").decode(\"unicode-escape\"))\n",
    "\n",
    "df2013_train['text'] = df2013_train['text'].apply(lambda x: x.encode(\"utf-8\").decode(\"unicode-escape\"))\n",
    "df2013_dev['text'] = df2013_dev['text'].apply(lambda x: x.encode(\"utf-8\").decode(\"unicode-escape\"))\n",
    "df2013_test['text'] = df2013_test['text'].apply(lambda x: x.encode(\"utf-8\").decode(\"unicode-escape\"))\n",
    "\n",
    "# Concat\n",
    "#df = pd.concat([df2016_train, df2016_dev, df2016_test, df2016_devtest, df2015_train, df2015_test, df2014_sarcasm, df2014_test, df2013_train, df2013_dev, df2013_test], ignore_index=True, axis=0)\n",
    "df = pd.concat([df2016_train, df2016_dev, df2016_test, df2016_devtest, df2015_train, df2015_test, df2014_test, df2013_train, df2013_dev, df2013_test], ignore_index=True, axis=0)\n",
    "#df = pd.concat([df2016_train, df2016_dev, df2015_train, df2013_train, df2013_dev], ignore_index=True, axis=0)\n",
    "\n",
    "# Drop id column\n",
    "df.drop(columns=['id'], inplace=True)\n",
    "\n",
    "df"
   ]
  },
  {
   "cell_type": "markdown",
   "metadata": {},
   "source": [
    "# Preprocessing"
   ]
  },
  {
   "cell_type": "code",
   "execution_count": 324,
   "metadata": {},
   "outputs": [
    {
     "data": {
      "text/plain": [
       "sentiment\n",
       "positive    14195\n",
       "neutral     13688\n",
       "negative     5115\n",
       "Name: count, dtype: int64"
      ]
     },
     "execution_count": 324,
     "metadata": {},
     "output_type": "execute_result"
    }
   ],
   "source": [
    "df['sentiment'].value_counts()"
   ]
  },
  {
   "cell_type": "code",
   "execution_count": 325,
   "metadata": {},
   "outputs": [
    {
     "name": "stdout",
     "output_type": "stream",
     "text": [
      "Num of duplicates before drop:  4133\n",
      "Num of duplicates after drop:  0\n",
      "Rows after drop:  28865\n"
     ]
    }
   ],
   "source": [
    "print(\"Num of duplicates before drop: \", df.duplicated().sum())\n",
    "df.drop_duplicates(keep='first', inplace=True)\n",
    "df.reset_index(drop=True, inplace=True)\n",
    "print(\"Num of duplicates after drop: \", df.duplicated().sum())\n",
    "print(\"Rows after drop: \", df.shape[0])"
   ]
  },
  {
   "cell_type": "code",
   "execution_count": 326,
   "metadata": {},
   "outputs": [],
   "source": [
    "def preprocess_text(text):\n",
    "    to_lower = text.lower() # make text lowercase\n",
    "    no_link = re.sub('http[^\\s]+', '', to_lower) # remove links (starts with http)\n",
    "    no_contractions = contractions.fix(no_link) # remove contractions\n",
    "    no_punctuations = re.sub('\\W+', ' ', no_contractions) # remove punctuations\n",
    "    no_num = re.sub(r'\\b\\d+\\b', ' ', no_punctuations) # remove numbers unless connected to words\n",
    "    no_time = re.sub(r'\\b([a-zA-Z0-9]+)(?:am|pm)\\b', '', no_num) # remove time (e.g. 10pm)\n",
    "    no_space = re.sub('\\s+', ' ', no_time) # remove extra spaces\n",
    "\n",
    "    # remove stopwords and lemmatize for NLP\n",
    "    nlp = NLP(\n",
    "        replace_words=True,             # replaces contractions\n",
    "        remove_stopwords=True,          # removes select stopwords\n",
    "        remove_numbers=False,\n",
    "        lemmatize=True,                 # for lemmatization\n",
    "        lemmatize_method='wordnet'\n",
    "    )\n",
    "    after_nlp = nlp.process(no_space)\n",
    "\n",
    "    return after_nlp"
   ]
  },
  {
   "cell_type": "code",
   "execution_count": 327,
   "metadata": {},
   "outputs": [],
   "source": [
    "# apply function and store result in new column\n",
    "df[\"processed\"] = df[\"text\"].apply(preprocess_text)"
   ]
  },
  {
   "cell_type": "code",
   "execution_count": 328,
   "metadata": {},
   "outputs": [
    {
     "data": {
      "text/plain": [
       "\"dear @Microsoft the newOoffice for Mac is great and all, but no Lync update? C'mon.\""
      ]
     },
     "execution_count": 328,
     "metadata": {},
     "output_type": "execute_result"
    }
   ],
   "source": [
    "# view original text\n",
    "df['text'][0]"
   ]
  },
  {
   "cell_type": "code",
   "execution_count": 329,
   "metadata": {},
   "outputs": [
    {
     "data": {
      "text/plain": [
       "'dear microsoft newooffice mac great and but no lync update c mon'"
      ]
     },
     "execution_count": 329,
     "metadata": {},
     "output_type": "execute_result"
    }
   ],
   "source": [
    "# view preprocessed text\n",
    "df['processed'][0]"
   ]
  },
  {
   "cell_type": "code",
   "execution_count": 330,
   "metadata": {},
   "outputs": [],
   "source": [
    "# split df to features and targets\n",
    "df_features = df[\"processed\"]\n",
    "df_target = df[\"sentiment\"]"
   ]
  },
  {
   "cell_type": "code",
   "execution_count": 331,
   "metadata": {},
   "outputs": [
    {
     "data": {
      "text/plain": [
       "28860    web youtube improves upload process with optio...\n",
       "28861    going change my tumblr theme hope can finish l...\n",
       "28862    am jealous everyone justin bieber concert no w...\n",
       "28863    jim harbaugh alex smith drive giant world seri...\n",
       "28864    trending tim tebow now dating cave woman from ...\n",
       "Name: processed, dtype: object"
      ]
     },
     "execution_count": 331,
     "metadata": {},
     "output_type": "execute_result"
    }
   ],
   "source": [
    "# view features\n",
    "df_features.tail()"
   ]
  },
  {
   "cell_type": "code",
   "execution_count": 332,
   "metadata": {},
   "outputs": [
    {
     "data": {
      "text/plain": [
       "0    negative\n",
       "1    negative\n",
       "2    negative\n",
       "3    negative\n",
       "4     neutral\n",
       "Name: sentiment, dtype: object"
      ]
     },
     "execution_count": 332,
     "metadata": {},
     "output_type": "execute_result"
    }
   ],
   "source": [
    "# view target\n",
    "df_target.head()"
   ]
  },
  {
   "cell_type": "markdown",
   "metadata": {},
   "source": [
    "# Basic Model"
   ]
  },
  {
   "cell_type": "code",
   "execution_count": 333,
   "metadata": {},
   "outputs": [
    {
     "name": "stdout",
     "output_type": "stream",
     "text": [
      "(23092,) (5773,)\n"
     ]
    }
   ],
   "source": [
    "# split df to train and test\n",
    "x_train, x_test, y_train, y_test = train_test_split(\n",
    "    df_features, df_target, test_size=0.2, random_state=77\n",
    ")\n",
    "\n",
    "print(x_train.shape, x_test.shape)"
   ]
  },
  {
   "cell_type": "code",
   "execution_count": 334,
   "metadata": {},
   "outputs": [
    {
     "data": {
      "text/html": [
       "<div>\n",
       "<style scoped>\n",
       "    .dataframe tbody tr th:only-of-type {\n",
       "        vertical-align: middle;\n",
       "    }\n",
       "\n",
       "    .dataframe tbody tr th {\n",
       "        vertical-align: top;\n",
       "    }\n",
       "\n",
       "    .dataframe thead th {\n",
       "        text-align: right;\n",
       "    }\n",
       "</style>\n",
       "<table border=\"1\" class=\"dataframe\">\n",
       "  <thead>\n",
       "    <tr style=\"text-align: right;\">\n",
       "      <th></th>\n",
       "      <th>10th</th>\n",
       "      <th>11th</th>\n",
       "      <th>12th</th>\n",
       "      <th>13th</th>\n",
       "      <th>14th</th>\n",
       "      <th>15th</th>\n",
       "      <th>16th</th>\n",
       "      <th>17th</th>\n",
       "      <th>18th</th>\n",
       "      <th>19th</th>\n",
       "      <th>...</th>\n",
       "      <th>york</th>\n",
       "      <th>you</th>\n",
       "      <th>young</th>\n",
       "      <th>your</th>\n",
       "      <th>yours</th>\n",
       "      <th>yourself</th>\n",
       "      <th>youth</th>\n",
       "      <th>youtube</th>\n",
       "      <th>yr</th>\n",
       "      <th>zlatan</th>\n",
       "    </tr>\n",
       "  </thead>\n",
       "  <tbody>\n",
       "    <tr>\n",
       "      <th>0</th>\n",
       "      <td>0.0</td>\n",
       "      <td>0.0</td>\n",
       "      <td>0.0</td>\n",
       "      <td>0.0</td>\n",
       "      <td>0.0</td>\n",
       "      <td>0.0</td>\n",
       "      <td>0.0</td>\n",
       "      <td>0.0</td>\n",
       "      <td>0.0</td>\n",
       "      <td>0.0</td>\n",
       "      <td>...</td>\n",
       "      <td>0.0</td>\n",
       "      <td>0.0</td>\n",
       "      <td>0.0</td>\n",
       "      <td>0.000000</td>\n",
       "      <td>0.0</td>\n",
       "      <td>0.0</td>\n",
       "      <td>0.0</td>\n",
       "      <td>0.0</td>\n",
       "      <td>0.0</td>\n",
       "      <td>0.0</td>\n",
       "    </tr>\n",
       "    <tr>\n",
       "      <th>1</th>\n",
       "      <td>0.0</td>\n",
       "      <td>0.0</td>\n",
       "      <td>0.0</td>\n",
       "      <td>0.0</td>\n",
       "      <td>0.0</td>\n",
       "      <td>0.0</td>\n",
       "      <td>0.0</td>\n",
       "      <td>0.0</td>\n",
       "      <td>0.0</td>\n",
       "      <td>0.0</td>\n",
       "      <td>...</td>\n",
       "      <td>0.0</td>\n",
       "      <td>0.0</td>\n",
       "      <td>0.0</td>\n",
       "      <td>0.000000</td>\n",
       "      <td>0.0</td>\n",
       "      <td>0.0</td>\n",
       "      <td>0.0</td>\n",
       "      <td>0.0</td>\n",
       "      <td>0.0</td>\n",
       "      <td>0.0</td>\n",
       "    </tr>\n",
       "    <tr>\n",
       "      <th>2</th>\n",
       "      <td>0.0</td>\n",
       "      <td>0.0</td>\n",
       "      <td>0.0</td>\n",
       "      <td>0.0</td>\n",
       "      <td>0.0</td>\n",
       "      <td>0.0</td>\n",
       "      <td>0.0</td>\n",
       "      <td>0.0</td>\n",
       "      <td>0.0</td>\n",
       "      <td>0.0</td>\n",
       "      <td>...</td>\n",
       "      <td>0.0</td>\n",
       "      <td>0.0</td>\n",
       "      <td>0.0</td>\n",
       "      <td>0.000000</td>\n",
       "      <td>0.0</td>\n",
       "      <td>0.0</td>\n",
       "      <td>0.0</td>\n",
       "      <td>0.0</td>\n",
       "      <td>0.0</td>\n",
       "      <td>0.0</td>\n",
       "    </tr>\n",
       "    <tr>\n",
       "      <th>3</th>\n",
       "      <td>0.0</td>\n",
       "      <td>0.0</td>\n",
       "      <td>0.0</td>\n",
       "      <td>0.0</td>\n",
       "      <td>0.0</td>\n",
       "      <td>0.0</td>\n",
       "      <td>0.0</td>\n",
       "      <td>0.0</td>\n",
       "      <td>0.0</td>\n",
       "      <td>0.0</td>\n",
       "      <td>...</td>\n",
       "      <td>0.0</td>\n",
       "      <td>0.0</td>\n",
       "      <td>0.0</td>\n",
       "      <td>0.000000</td>\n",
       "      <td>0.0</td>\n",
       "      <td>0.0</td>\n",
       "      <td>0.0</td>\n",
       "      <td>0.0</td>\n",
       "      <td>0.0</td>\n",
       "      <td>0.0</td>\n",
       "    </tr>\n",
       "    <tr>\n",
       "      <th>4</th>\n",
       "      <td>0.0</td>\n",
       "      <td>0.0</td>\n",
       "      <td>0.0</td>\n",
       "      <td>0.0</td>\n",
       "      <td>0.0</td>\n",
       "      <td>0.0</td>\n",
       "      <td>0.0</td>\n",
       "      <td>0.0</td>\n",
       "      <td>0.0</td>\n",
       "      <td>0.0</td>\n",
       "      <td>...</td>\n",
       "      <td>0.0</td>\n",
       "      <td>0.0</td>\n",
       "      <td>0.0</td>\n",
       "      <td>0.182571</td>\n",
       "      <td>0.0</td>\n",
       "      <td>0.0</td>\n",
       "      <td>0.0</td>\n",
       "      <td>0.0</td>\n",
       "      <td>0.0</td>\n",
       "      <td>0.0</td>\n",
       "    </tr>\n",
       "  </tbody>\n",
       "</table>\n",
       "<p>5 rows × 2000 columns</p>\n",
       "</div>"
      ],
      "text/plain": [
       "   10th  11th  12th  13th  14th  15th  16th  17th  18th  19th  ...  york  you  \\\n",
       "0   0.0   0.0   0.0   0.0   0.0   0.0   0.0   0.0   0.0   0.0  ...   0.0  0.0   \n",
       "1   0.0   0.0   0.0   0.0   0.0   0.0   0.0   0.0   0.0   0.0  ...   0.0  0.0   \n",
       "2   0.0   0.0   0.0   0.0   0.0   0.0   0.0   0.0   0.0   0.0  ...   0.0  0.0   \n",
       "3   0.0   0.0   0.0   0.0   0.0   0.0   0.0   0.0   0.0   0.0  ...   0.0  0.0   \n",
       "4   0.0   0.0   0.0   0.0   0.0   0.0   0.0   0.0   0.0   0.0  ...   0.0  0.0   \n",
       "\n",
       "   young      your  yours  yourself  youth  youtube   yr  zlatan  \n",
       "0    0.0  0.000000    0.0       0.0    0.0      0.0  0.0     0.0  \n",
       "1    0.0  0.000000    0.0       0.0    0.0      0.0  0.0     0.0  \n",
       "2    0.0  0.000000    0.0       0.0    0.0      0.0  0.0     0.0  \n",
       "3    0.0  0.000000    0.0       0.0    0.0      0.0  0.0     0.0  \n",
       "4    0.0  0.182571    0.0       0.0    0.0      0.0  0.0     0.0  \n",
       "\n",
       "[5 rows x 2000 columns]"
      ]
     },
     "execution_count": 334,
     "metadata": {},
     "output_type": "execute_result"
    }
   ],
   "source": [
    "# vectorize the preprocessed text\n",
    "vectorizer = TfidfVectorizer(max_features=2000) # TFIDF = checks how important a word is\n",
    "\n",
    "x_train = vectorizer.fit_transform(x_train)\n",
    "x_test = vectorizer.transform(x_test)\n",
    "\n",
    "vector_df = pd.DataFrame(x_train.toarray(), columns=vectorizer.get_feature_names_out())\n",
    "\n",
    "vector_df.head()"
   ]
  },
  {
   "cell_type": "code",
   "execution_count": 335,
   "metadata": {},
   "outputs": [
    {
     "name": "stdout",
     "output_type": "stream",
     "text": [
      "Percentage:\n",
      " sentiment\n",
      "positive    43.55\n",
      "neutral     40.97\n",
      "negative    15.48\n",
      "Name: count, dtype: float64\n",
      "\n",
      "Counts:\n",
      " sentiment\n",
      "positive    10056\n",
      "neutral      9461\n",
      "negative     3575\n",
      "Name: count, dtype: int64\n",
      "\n",
      "Rows: 23092\n"
     ]
    }
   ],
   "source": [
    "# view balance of train set targets\n",
    "print(\"Percentage:\\n\", y_train.value_counts().divide(y_train.shape[0], axis=0).multiply(100, axis=0).round(2))\n",
    "print(\"\\nCounts:\\n\", y_train.value_counts())\n",
    "print(\"\\nRows:\", y_train.shape[0])"
   ]
  },
  {
   "cell_type": "code",
   "execution_count": 336,
   "metadata": {},
   "outputs": [
    {
     "name": "stdout",
     "output_type": "stream",
     "text": [
      "sentiment\n",
      "negative    3575\n",
      "neutral     3575\n",
      "positive    3575\n",
      "Name: count, dtype: int64\n",
      "Rows: 10725\n"
     ]
    }
   ],
   "source": [
    "# undersampling\n",
    "undersample = NearMiss(n_neighbors=5, version=3)\n",
    "\n",
    "x_train, y_train = undersample.fit_resample(x_train, y_train)\n",
    "\n",
    "print(y_train.value_counts())\n",
    "print(\"\\nRows:\", y_train.shape[0])"
   ]
  },
  {
   "cell_type": "code",
   "execution_count": 337,
   "metadata": {},
   "outputs": [],
   "source": [
    "# create arrays\n",
    "x_train_arr = x_train.toarray()\n",
    "x_test_arr = x_test.toarray()"
   ]
  },
  {
   "cell_type": "code",
   "execution_count": 338,
   "metadata": {},
   "outputs": [
    {
     "name": "stdout",
     "output_type": "stream",
     "text": [
      "Accuracy: 0.6145339997094929\n",
      "Precision: 0.5876277573039532\n",
      "Recall: 0.6145339997094929\n",
      "F1 Score: 0.5863342122333552\n"
     ]
    }
   ],
   "source": [
    "# train model\n",
    "\n",
    "model = SVC(random_state=77)   \n",
    "# Time: 24.4s\n",
    "# Accuracy: 0.6145339997094929\n",
    "# Precision: 0.5876277573039532\n",
    "# Recall: 0.6145339997094929\n",
    "# F1 Score: 0.5863342122333552\n",
    "\n",
    "# fit the model\n",
    "model.fit(x_train, y_train)\n",
    "\n",
    "# predict\n",
    "predictions = model.predict(x_test)\n",
    "\n",
    "# check metric scores\n",
    "print(\"Accuracy:\", balanced_accuracy_score(y_test, predictions))\n",
    "print(\"Precision:\", precision_score(y_test, predictions, average=\"macro\"))\n",
    "print(\"Recall:\", recall_score(y_test, predictions, average=\"macro\"))\n",
    "print(\"F1 Score:\", f1_score(y_test, predictions, average=\"macro\"))"
   ]
  },
  {
   "cell_type": "code",
   "execution_count": 339,
   "metadata": {},
   "outputs": [],
   "source": [
    "# other models tested\n",
    "\n",
    "#model = GaussianNB()\n",
    "# Time: 1.4s\n",
    "# Accuracy: 0.5066184808498903\n",
    "# Precision: 0.4785084917412182\n",
    "# Recall: 0.5066184808498903\n",
    "# F1 Score: 0.454322337184524\n",
    "\n",
    "#model = MultinomialNB()\n",
    "# Time: 0.2s\n",
    "# Accuracy: 0.5864277525291615\n",
    "# Precision: 0.5507637892853133\n",
    "# Recall: 0.5864277525291615\n",
    "# F1 Score: 0.5541723322348201\n",
    "\n",
    "#model = ComplementNB()\n",
    "# Time: 0.2s\n",
    "# Accuracy: 0.585931047560993\n",
    "# Precision: 0.5487343486284044\n",
    "# Recall: 0.585931047560993\n",
    "# F1 Score: 0.5464215173271928\n",
    "\n",
    "#model = LinearSVC(random_state=77, dual='auto')\n",
    "# Time: 0.2s\n",
    "# Accuracy: 0.5878883880617728\n",
    "# Precision: 0.5543853034953427\n",
    "# Recall: 0.5878883880617728\n",
    "# F1 Score: 0.558027712496666\n",
    "\n",
    "#model = SGDClassifier(random_state=77)\n",
    "# Time: 0.2s\n",
    "# Accuracy: 0.6032645593613468\n",
    "# Precision: 0.5655203183438711\n",
    "# Recall: 0.6032645593613468\n",
    "# F1 Score: 0.5662745193149411\n",
    "\n",
    "#model = DecisionTreeClassifier(random_state=77)\n",
    "# Time: 6.5s\n",
    "# Accuracy: 0.5065376283491018\n",
    "# Precision: 0.48604546211620825\n",
    "# Recall: 0.5065376283491018\n",
    "# F1 Score: 0.48194254807408426\n",
    "\n",
    "#model = RandomForestClassifier(random_state=77)\n",
    "# Time: 29.9s\n",
    "# Accuracy: 0.5972212278961054\n",
    "# Precision: 0.5701129632860881\n",
    "# Recall: 0.5972212278961054\n",
    "# F1 Score: 0.5627530256256742\n",
    "\n",
    "#model = LogisticRegression(random_state=77, max_iter=x_train.shape[0])\n",
    "# Time: 0.5s\n",
    "# Accuracy: 0.5975307916633606\n",
    "# Precision: 0.5658800931573422\n",
    "# Recall: 0.5975307916633606\n",
    "# F1 Score: 0.5696850974274613"
   ]
  },
  {
   "cell_type": "code",
   "execution_count": 340,
   "metadata": {},
   "outputs": [
    {
     "data": {
      "text/plain": [
       "array([[ 599,  214,   91],\n",
       "       [ 540, 1500,  376],\n",
       "       [ 338,  741, 1374]], dtype=int64)"
      ]
     },
     "execution_count": 340,
     "metadata": {},
     "output_type": "execute_result"
    }
   ],
   "source": [
    "# generate confusion matrix\n",
    "labels = np.unique(predictions)\n",
    "cm = confusion_matrix(y_test, predictions, labels=labels)\n",
    "cm"
   ]
  },
  {
   "cell_type": "code",
   "execution_count": 341,
   "metadata": {},
   "outputs": [
    {
     "data": {
      "image/png": "[encoded data removed]",
      "text/plain": [
       "<Figure size 640x480 with 2 Axes>"
      ]
     },
     "metadata": {},
     "output_type": "display_data"
    }
   ],
   "source": [
    "# show confusion matrix in a heatmap\n",
    "sns.heatmap(cm,\n",
    "            annot=True,\n",
    "            fmt='d',\n",
    "            xticklabels=labels,\n",
    "            yticklabels=labels,\n",
    "            cmap='viridis')\n",
    "\n",
    "plt.ylabel('Predicted', fontsize=12)\n",
    "plt.xlabel('Actual', fontsize=12)\n",
    "plt.title('Confusion Matrix', fontsize=14)\n",
    "plt.show()"
   ]
  },
  {
   "cell_type": "code",
   "execution_count": 345,
   "metadata": {},
   "outputs": [
    {
     "name": "stdout",
     "output_type": "stream",
     "text": [
      "sentiment\n",
      "positive    2453\n",
      "neutral     2416\n",
      "negative     904\n",
      "Name: count, dtype: int64\n",
      "\n",
      "Rows: 5773\n"
     ]
    }
   ],
   "source": [
    "# view balance of test set targets\n",
    "print(y_test.value_counts())\n",
    "print(\"\\nRows:\", y_test.shape[0])"
   ]
  },
  {
   "cell_type": "code",
   "execution_count": 343,
   "metadata": {},
   "outputs": [
    {
     "data": {
      "image/png": "[encoded data removed]",
      "text/plain": [
       "<Figure size 640x480 with 1 Axes>"
      ]
     },
     "metadata": {},
     "output_type": "display_data"
    }
   ],
   "source": [
    "# calculate percentage of correctly identified sentiments\n",
    "percent = cm.diagonal() / cm.sum(axis=1)\n",
    "\n",
    "# show percentages in a pie chart\n",
    "plt.pie(percent, labels=labels, autopct=\"%1.2f%%\")\n",
    "plt.title(\"Percentage of Correctly Identified Classes\")\n",
    "plt.show()"
   ]
  },
  {
   "cell_type": "code",
   "execution_count": 344,
   "metadata": {},
   "outputs": [
    {
     "data": {
      "image/png": "[encoded data removed]",
      "text/plain": [
       "<Figure size 640x480 with 3 Axes>"
      ]
     },
     "metadata": {},
     "output_type": "display_data"
    }
   ],
   "source": [
    "# calculate percentage of correctly identified sentiments per sentiment\n",
    "percent_correct = [np.sum(cm[i, i]) / np.sum(cm[i, :]) for i in range(len(cm))]\n",
    "percent_incorrect = [1 - percent_correct[i] for i in range(len(cm))]\n",
    "\n",
    "# show percentages in pie charts\n",
    "fig, axs = plt.subplots(1, len(cm))\n",
    "for i in range(len(cm)):\n",
    "    axs[i].pie([percent_correct[i], percent_incorrect[i]], labels=[\"Correct\", \"Incorrect\"], autopct=\"%1.2f%%\")\n",
    "    axs[i].set_title(labels[i])\n",
    "plt.show()"
   ]
  },
  {
   "cell_type": "markdown",
   "metadata": {},
   "source": [
    "# Hyperparameter Tuning"
   ]
  },
  {
   "cell_type": "code",
   "execution_count": 364,
   "metadata": {},
   "outputs": [
    {
     "name": "stdout",
     "output_type": "stream",
     "text": [
      "Fitting 3 folds for each of 864 candidates, totalling 2592 fits\n"
     ]
    },
    {
     "ename": "KeyboardInterrupt",
     "evalue": "",
     "output_type": "error",
     "traceback": [
      "\u001b[1;31m---------------------------------------------------------------------------\u001b[0m",
      "\u001b[1;31mKeyboardInterrupt\u001b[0m                         Traceback (most recent call last)",
      "\u001b[1;32mc:\\Training\\Project\\nlpapp\\sentimentclassifier.ipynb Cell 28\u001b[0m line \u001b[0;36m2\n\u001b[0;32m     <a href='vscode-notebook-cell:/c%3A/Training/Project/nlpapp/sentimentclassifier.ipynb#X36sZmlsZQ%3D%3D?line=14'>15</a>\u001b[0m model_tuner \u001b[39m=\u001b[39m GridSearchCV(\n\u001b[0;32m     <a href='vscode-notebook-cell:/c%3A/Training/Project/nlpapp/sentimentclassifier.ipynb#X36sZmlsZQ%3D%3D?line=15'>16</a>\u001b[0m     model_tuner,\n\u001b[0;32m     <a href='vscode-notebook-cell:/c%3A/Training/Project/nlpapp/sentimentclassifier.ipynb#X36sZmlsZQ%3D%3D?line=16'>17</a>\u001b[0m     parameters,\n\u001b[1;32m   (...)\u001b[0m\n\u001b[0;32m     <a href='vscode-notebook-cell:/c%3A/Training/Project/nlpapp/sentimentclassifier.ipynb#X36sZmlsZQ%3D%3D?line=20'>21</a>\u001b[0m     verbose\u001b[39m=\u001b[39m\u001b[39m1\u001b[39m\n\u001b[0;32m     <a href='vscode-notebook-cell:/c%3A/Training/Project/nlpapp/sentimentclassifier.ipynb#X36sZmlsZQ%3D%3D?line=21'>22</a>\u001b[0m )\n\u001b[0;32m     <a href='vscode-notebook-cell:/c%3A/Training/Project/nlpapp/sentimentclassifier.ipynb#X36sZmlsZQ%3D%3D?line=23'>24</a>\u001b[0m \u001b[39m# fit the model\u001b[39;00m\n\u001b[1;32m---> <a href='vscode-notebook-cell:/c%3A/Training/Project/nlpapp/sentimentclassifier.ipynb#X36sZmlsZQ%3D%3D?line=24'>25</a>\u001b[0m tune_results \u001b[39m=\u001b[39m model_tuner\u001b[39m.\u001b[39;49mfit(x_train, y_train)\n\u001b[0;32m     <a href='vscode-notebook-cell:/c%3A/Training/Project/nlpapp/sentimentclassifier.ipynb#X36sZmlsZQ%3D%3D?line=26'>27</a>\u001b[0m \u001b[39m# get the best hyperparameters\u001b[39;00m\n\u001b[0;32m     <a href='vscode-notebook-cell:/c%3A/Training/Project/nlpapp/sentimentclassifier.ipynb#X36sZmlsZQ%3D%3D?line=27'>28</a>\u001b[0m \u001b[39mprint\u001b[39m(\u001b[39m\"\u001b[39m\u001b[39mBest Params: \u001b[39m\u001b[39m\"\u001b[39m, tune_results\u001b[39m.\u001b[39mbest_params_)\n",
      "File \u001b[1;32mc:\\Training\\Project\\senti-env\\lib\\site-packages\\sklearn\\base.py:1152\u001b[0m, in \u001b[0;36m_fit_context.<locals>.decorator.<locals>.wrapper\u001b[1;34m(estimator, *args, **kwargs)\u001b[0m\n\u001b[0;32m   1145\u001b[0m     estimator\u001b[39m.\u001b[39m_validate_params()\n\u001b[0;32m   1147\u001b[0m \u001b[39mwith\u001b[39;00m config_context(\n\u001b[0;32m   1148\u001b[0m     skip_parameter_validation\u001b[39m=\u001b[39m(\n\u001b[0;32m   1149\u001b[0m         prefer_skip_nested_validation \u001b[39mor\u001b[39;00m global_skip_validation\n\u001b[0;32m   1150\u001b[0m     )\n\u001b[0;32m   1151\u001b[0m ):\n\u001b[1;32m-> 1152\u001b[0m     \u001b[39mreturn\u001b[39;00m fit_method(estimator, \u001b[39m*\u001b[39margs, \u001b[39m*\u001b[39m\u001b[39m*\u001b[39mkwargs)\n",
      "File \u001b[1;32mc:\\Training\\Project\\senti-env\\lib\\site-packages\\sklearn\\model_selection\\_search.py:898\u001b[0m, in \u001b[0;36mBaseSearchCV.fit\u001b[1;34m(self, X, y, groups, **fit_params)\u001b[0m\n\u001b[0;32m    892\u001b[0m     results \u001b[39m=\u001b[39m \u001b[39mself\u001b[39m\u001b[39m.\u001b[39m_format_results(\n\u001b[0;32m    893\u001b[0m         all_candidate_params, n_splits, all_out, all_more_results\n\u001b[0;32m    894\u001b[0m     )\n\u001b[0;32m    896\u001b[0m     \u001b[39mreturn\u001b[39;00m results\n\u001b[1;32m--> 898\u001b[0m \u001b[39mself\u001b[39;49m\u001b[39m.\u001b[39;49m_run_search(evaluate_candidates)\n\u001b[0;32m    900\u001b[0m \u001b[39m# multimetric is determined here because in the case of a callable\u001b[39;00m\n\u001b[0;32m    901\u001b[0m \u001b[39m# self.scoring the return type is only known after calling\u001b[39;00m\n\u001b[0;32m    902\u001b[0m first_test_score \u001b[39m=\u001b[39m all_out[\u001b[39m0\u001b[39m][\u001b[39m\"\u001b[39m\u001b[39mtest_scores\u001b[39m\u001b[39m\"\u001b[39m]\n",
      "File \u001b[1;32mc:\\Training\\Project\\senti-env\\lib\\site-packages\\sklearn\\model_selection\\_search.py:1422\u001b[0m, in \u001b[0;36mGridSearchCV._run_search\u001b[1;34m(self, evaluate_candidates)\u001b[0m\n\u001b[0;32m   1420\u001b[0m \u001b[39mdef\u001b[39;00m \u001b[39m_run_search\u001b[39m(\u001b[39mself\u001b[39m, evaluate_candidates):\n\u001b[0;32m   1421\u001b[0m \u001b[39m    \u001b[39m\u001b[39m\"\"\"Search all candidates in param_grid\"\"\"\u001b[39;00m\n\u001b[1;32m-> 1422\u001b[0m     evaluate_candidates(ParameterGrid(\u001b[39mself\u001b[39;49m\u001b[39m.\u001b[39;49mparam_grid))\n",
      "File \u001b[1;32mc:\\Training\\Project\\senti-env\\lib\\site-packages\\sklearn\\model_selection\\_search.py:845\u001b[0m, in \u001b[0;36mBaseSearchCV.fit.<locals>.evaluate_candidates\u001b[1;34m(candidate_params, cv, more_results)\u001b[0m\n\u001b[0;32m    837\u001b[0m \u001b[39mif\u001b[39;00m \u001b[39mself\u001b[39m\u001b[39m.\u001b[39mverbose \u001b[39m>\u001b[39m \u001b[39m0\u001b[39m:\n\u001b[0;32m    838\u001b[0m     \u001b[39mprint\u001b[39m(\n\u001b[0;32m    839\u001b[0m         \u001b[39m\"\u001b[39m\u001b[39mFitting \u001b[39m\u001b[39m{0}\u001b[39;00m\u001b[39m folds for each of \u001b[39m\u001b[39m{1}\u001b[39;00m\u001b[39m candidates,\u001b[39m\u001b[39m\"\u001b[39m\n\u001b[0;32m    840\u001b[0m         \u001b[39m\"\u001b[39m\u001b[39m totalling \u001b[39m\u001b[39m{2}\u001b[39;00m\u001b[39m fits\u001b[39m\u001b[39m\"\u001b[39m\u001b[39m.\u001b[39mformat(\n\u001b[0;32m    841\u001b[0m             n_splits, n_candidates, n_candidates \u001b[39m*\u001b[39m n_splits\n\u001b[0;32m    842\u001b[0m         )\n\u001b[0;32m    843\u001b[0m     )\n\u001b[1;32m--> 845\u001b[0m out \u001b[39m=\u001b[39m parallel(\n\u001b[0;32m    846\u001b[0m     delayed(_fit_and_score)(\n\u001b[0;32m    847\u001b[0m         clone(base_estimator),\n\u001b[0;32m    848\u001b[0m         X,\n\u001b[0;32m    849\u001b[0m         y,\n\u001b[0;32m    850\u001b[0m         train\u001b[39m=\u001b[39;49mtrain,\n\u001b[0;32m    851\u001b[0m         test\u001b[39m=\u001b[39;49mtest,\n\u001b[0;32m    852\u001b[0m         parameters\u001b[39m=\u001b[39;49mparameters,\n\u001b[0;32m    853\u001b[0m         split_progress\u001b[39m=\u001b[39;49m(split_idx, n_splits),\n\u001b[0;32m    854\u001b[0m         candidate_progress\u001b[39m=\u001b[39;49m(cand_idx, n_candidates),\n\u001b[0;32m    855\u001b[0m         \u001b[39m*\u001b[39;49m\u001b[39m*\u001b[39;49mfit_and_score_kwargs,\n\u001b[0;32m    856\u001b[0m     )\n\u001b[0;32m    857\u001b[0m     \u001b[39mfor\u001b[39;49;00m (cand_idx, parameters), (split_idx, (train, test)) \u001b[39min\u001b[39;49;00m product(\n\u001b[0;32m    858\u001b[0m         \u001b[39menumerate\u001b[39;49m(candidate_params), \u001b[39menumerate\u001b[39;49m(cv\u001b[39m.\u001b[39;49msplit(X, y, groups))\n\u001b[0;32m    859\u001b[0m     )\n\u001b[0;32m    860\u001b[0m )\n\u001b[0;32m    862\u001b[0m \u001b[39mif\u001b[39;00m \u001b[39mlen\u001b[39m(out) \u001b[39m<\u001b[39m \u001b[39m1\u001b[39m:\n\u001b[0;32m    863\u001b[0m     \u001b[39mraise\u001b[39;00m \u001b[39mValueError\u001b[39;00m(\n\u001b[0;32m    864\u001b[0m         \u001b[39m\"\u001b[39m\u001b[39mNo fits were performed. \u001b[39m\u001b[39m\"\u001b[39m\n\u001b[0;32m    865\u001b[0m         \u001b[39m\"\u001b[39m\u001b[39mWas the CV iterator empty? \u001b[39m\u001b[39m\"\u001b[39m\n\u001b[0;32m    866\u001b[0m         \u001b[39m\"\u001b[39m\u001b[39mWere there no candidates?\u001b[39m\u001b[39m\"\u001b[39m\n\u001b[0;32m    867\u001b[0m     )\n",
      "File \u001b[1;32mc:\\Training\\Project\\senti-env\\lib\\site-packages\\sklearn\\utils\\parallel.py:65\u001b[0m, in \u001b[0;36mParallel.__call__\u001b[1;34m(self, iterable)\u001b[0m\n\u001b[0;32m     60\u001b[0m config \u001b[39m=\u001b[39m get_config()\n\u001b[0;32m     61\u001b[0m iterable_with_config \u001b[39m=\u001b[39m (\n\u001b[0;32m     62\u001b[0m     (_with_config(delayed_func, config), args, kwargs)\n\u001b[0;32m     63\u001b[0m     \u001b[39mfor\u001b[39;00m delayed_func, args, kwargs \u001b[39min\u001b[39;00m iterable\n\u001b[0;32m     64\u001b[0m )\n\u001b[1;32m---> 65\u001b[0m \u001b[39mreturn\u001b[39;00m \u001b[39msuper\u001b[39;49m()\u001b[39m.\u001b[39;49m\u001b[39m__call__\u001b[39;49m(iterable_with_config)\n",
      "File \u001b[1;32mc:\\Training\\Project\\senti-env\\lib\\site-packages\\joblib\\parallel.py:1952\u001b[0m, in \u001b[0;36mParallel.__call__\u001b[1;34m(self, iterable)\u001b[0m\n\u001b[0;32m   1946\u001b[0m \u001b[39m# The first item from the output is blank, but it makes the interpreter\u001b[39;00m\n\u001b[0;32m   1947\u001b[0m \u001b[39m# progress until it enters the Try/Except block of the generator and\u001b[39;00m\n\u001b[0;32m   1948\u001b[0m \u001b[39m# reach the first `yield` statement. This starts the aynchronous\u001b[39;00m\n\u001b[0;32m   1949\u001b[0m \u001b[39m# dispatch of the tasks to the workers.\u001b[39;00m\n\u001b[0;32m   1950\u001b[0m \u001b[39mnext\u001b[39m(output)\n\u001b[1;32m-> 1952\u001b[0m \u001b[39mreturn\u001b[39;00m output \u001b[39mif\u001b[39;00m \u001b[39mself\u001b[39m\u001b[39m.\u001b[39mreturn_generator \u001b[39melse\u001b[39;00m \u001b[39mlist\u001b[39;49m(output)\n",
      "File \u001b[1;32mc:\\Training\\Project\\senti-env\\lib\\site-packages\\joblib\\parallel.py:1595\u001b[0m, in \u001b[0;36mParallel._get_outputs\u001b[1;34m(self, iterator, pre_dispatch)\u001b[0m\n\u001b[0;32m   1592\u001b[0m     \u001b[39myield\u001b[39;00m\n\u001b[0;32m   1594\u001b[0m     \u001b[39mwith\u001b[39;00m \u001b[39mself\u001b[39m\u001b[39m.\u001b[39m_backend\u001b[39m.\u001b[39mretrieval_context():\n\u001b[1;32m-> 1595\u001b[0m         \u001b[39myield from\u001b[39;00m \u001b[39mself\u001b[39m\u001b[39m.\u001b[39m_retrieve()\n\u001b[0;32m   1597\u001b[0m \u001b[39mexcept\u001b[39;00m \u001b[39mGeneratorExit\u001b[39;00m:\n\u001b[0;32m   1598\u001b[0m     \u001b[39m# The generator has been garbage collected before being fully\u001b[39;00m\n\u001b[0;32m   1599\u001b[0m     \u001b[39m# consumed. This aborts the remaining tasks if possible and warn\u001b[39;00m\n\u001b[0;32m   1600\u001b[0m     \u001b[39m# the user if necessary.\u001b[39;00m\n\u001b[0;32m   1601\u001b[0m     \u001b[39mself\u001b[39m\u001b[39m.\u001b[39m_exception \u001b[39m=\u001b[39m \u001b[39mTrue\u001b[39;00m\n",
      "File \u001b[1;32mc:\\Training\\Project\\senti-env\\lib\\site-packages\\joblib\\parallel.py:1707\u001b[0m, in \u001b[0;36mParallel._retrieve\u001b[1;34m(self)\u001b[0m\n\u001b[0;32m   1702\u001b[0m \u001b[39m# If the next job is not ready for retrieval yet, we just wait for\u001b[39;00m\n\u001b[0;32m   1703\u001b[0m \u001b[39m# async callbacks to progress.\u001b[39;00m\n\u001b[0;32m   1704\u001b[0m \u001b[39mif\u001b[39;00m ((\u001b[39mlen\u001b[39m(\u001b[39mself\u001b[39m\u001b[39m.\u001b[39m_jobs) \u001b[39m==\u001b[39m \u001b[39m0\u001b[39m) \u001b[39mor\u001b[39;00m\n\u001b[0;32m   1705\u001b[0m     (\u001b[39mself\u001b[39m\u001b[39m.\u001b[39m_jobs[\u001b[39m0\u001b[39m]\u001b[39m.\u001b[39mget_status(\n\u001b[0;32m   1706\u001b[0m         timeout\u001b[39m=\u001b[39m\u001b[39mself\u001b[39m\u001b[39m.\u001b[39mtimeout) \u001b[39m==\u001b[39m TASK_PENDING)):\n\u001b[1;32m-> 1707\u001b[0m     time\u001b[39m.\u001b[39;49msleep(\u001b[39m0.01\u001b[39;49m)\n\u001b[0;32m   1708\u001b[0m     \u001b[39mcontinue\u001b[39;00m\n\u001b[0;32m   1710\u001b[0m \u001b[39m# We need to be careful: the job list can be filling up as\u001b[39;00m\n\u001b[0;32m   1711\u001b[0m \u001b[39m# we empty it and Python list are not thread-safe by\u001b[39;00m\n\u001b[0;32m   1712\u001b[0m \u001b[39m# default hence the use of the lock\u001b[39;00m\n",
      "\u001b[1;31mKeyboardInterrupt\u001b[0m: "
     ]
    }
   ],
   "source": [
    "# provide parameter dictionary\n",
    "parameters = {\n",
    "    \"C\": [1, 5, 10],                                    # regularization parameter, higher = more sensitive to misclassifications\n",
    "    \"kernel\": [\"linear\", \"rbf\", \"poly\", \"sigmoid\"],     # kernel type\n",
    "    \"gamma\": [\"scale\", \"auto\", 0.0, 0.5],               # kernel coefficient, only important if rbf/poly/sigmoid, higher = more sensitive to local variations in the data\n",
    "    \"degree\": [3, 4, 5],                                # only important if poly\n",
    "    \"coef0\": [0, 0.5, 1],                               # only important if poly/sigmoid\n",
    "    \"decision_function_shape\": [\"ovo\", \"ovr\"]           # one-vs-one or one-vs-rest\n",
    "}\n",
    "\n",
    "# create blank model\n",
    "model_tuner = SVC(random_state=77)\n",
    "\n",
    "# perform grid search on f1_macro metric\n",
    "model_tuner = GridSearchCV(\n",
    "    model_tuner,\n",
    "    parameters,\n",
    "    cv=3,\n",
    "    scoring='f1_macro',\n",
    "    n_jobs=-1,\n",
    "    verbose=1\n",
    ")\n",
    "\n",
    "# fit the model\n",
    "tune_results = model_tuner.fit(x_train, y_train)\n",
    "\n",
    "# get the best hyperparameters\n",
    "print(\"Best Params: \", tune_results.best_params_)"
   ]
  },
  {
   "cell_type": "code",
   "execution_count": 348,
   "metadata": {},
   "outputs": [],
   "source": [
    "# Time: 4m 39.0s\n",
    "# Best Params:  {'C': 1, 'kernel': 'rbf'}\n",
    "\n",
    "# Time: 1m 23.0s\n",
    "# Best Params:  {'gamma': 'scale', 'max_iter': -1}\n",
    "\n",
    "# Time: 3m 3.9s\n",
    "# Best Params:  {'class_weight': None, 'decision_function_shape': 'ovo', 'gamma': 'scale'}"
   ]
  },
  {
   "cell_type": "code",
   "execution_count": 360,
   "metadata": {},
   "outputs": [
    {
     "name": "stdout",
     "output_type": "stream",
     "text": [
      "Accuracy: 0.6145339997094929\n",
      "Precision: 0.5876277573039532\n",
      "Recall: 0.6145339997094929\n",
      "F1 Score: 0.5863342122333552\n"
     ]
    }
   ],
   "source": [
    "# create new model with best hyperparameters\n",
    "tuned_model = SVC(random_state=77,\n",
    "    decision_function_shape='ovo'\n",
    ")\n",
    "\n",
    "# fit the tuned model\n",
    "tuned_model.fit(x_train, y_train)\n",
    "\n",
    "# predict\n",
    "predictions = tuned_model.predict(x_test)\n",
    "\n",
    "# check metric scores\n",
    "print(\"Accuracy:\", balanced_accuracy_score(y_test, predictions))\n",
    "print(\"Precision:\", precision_score(y_test, predictions, average=\"macro\"))\n",
    "print(\"Recall:\", recall_score(y_test, predictions, average=\"macro\"))\n",
    "print(\"F1 Score:\", f1_score(y_test, predictions, average=\"macro\"))"
   ]
  },
  {
   "cell_type": "code",
   "execution_count": 361,
   "metadata": {},
   "outputs": [],
   "source": [
    "# SCORE TO BEAT:\n",
    "# Accuracy: 0.6145339997094929\n",
    "# Precision: 0.5876277573039532\n",
    "# Recall: 0.6145339997094929\n",
    "# F1 Score: 0.5863342122333552\n",
    "\n",
    "# RESULTING SCORE:\n"
   ]
  },
  {
   "cell_type": "code",
   "execution_count": 362,
   "metadata": {},
   "outputs": [
    {
     "data": {
      "text/plain": [
       "array([[ 599,  214,   91],\n",
       "       [ 540, 1500,  376],\n",
       "       [ 338,  741, 1374]], dtype=int64)"
      ]
     },
     "execution_count": 362,
     "metadata": {},
     "output_type": "execute_result"
    }
   ],
   "source": [
    "# generate confusion matrix\n",
    "labels = np.unique(predictions)\n",
    "cm = confusion_matrix(y_test, predictions, labels=labels)\n",
    "cm"
   ]
  },
  {
   "cell_type": "code",
   "execution_count": 363,
   "metadata": {},
   "outputs": [
    {
     "data": {
      "image/png": "[encoded data removed]",
      "text/plain": [
       "<Figure size 640x480 with 2 Axes>"
      ]
     },
     "metadata": {},
     "output_type": "display_data"
    }
   ],
   "source": [
    "# show confusion matrix in a heatmap\n",
    "sns.heatmap(cm,\n",
    "            annot=True,\n",
    "            fmt='d',\n",
    "            xticklabels=labels,\n",
    "            yticklabels=labels,\n",
    "            cmap='viridis')\n",
    "\n",
    "plt.ylabel('Predicted', fontsize=12)\n",
    "plt.xlabel('Actual', fontsize=12)\n",
    "plt.title('Confusion Matrix', fontsize=14)\n",
    "plt.show()"
   ]
  }
 ],
 "metadata": {
  "kernelspec": {
   "display_name": "Python 3",
   "language": "python",
   "name": "python3"
  },
  "language_info": {
   "codemirror_mode": {
    "name": "ipython",
    "version": 3
   },
   "file_extension": ".py",
   "mimetype": "text/x-python",
   "name": "python",
   "nbconvert_exporter": "python",
   "pygments_lexer": "ipython3",
   "version": "3.9.13"
  },
  "orig_nbformat": 4
 },
 "nbformat": 4,
 "nbformat_minor": 2
}
